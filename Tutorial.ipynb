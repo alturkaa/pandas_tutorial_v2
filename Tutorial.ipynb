{
 "cells": [
  {
   "cell_type": "markdown",
   "metadata": {},
   "source": [
    "##Analyzing Nonprofit Housing Organizations with Pandas"
   ]
  },
  {
   "cell_type": "markdown",
   "metadata": {},
   "source": [
    "###Table of Contents\n",
    "* &nbsp;\n",
    "\t* [Analyzing Nonprofit Housing Organizations with Pandas](#Analyzing-Nonprofit-Housing-Organizations-with-Pandas)\n",
    "\t\t* [Introduction](#Introduction)\n",
    "\t\t* [Add extensions and import modules](#Add-extensions-and-import-modules)\n",
    "\t\t* [Ideal way to merge five NCCS files (for years 2009-2013)](#Ideal-way-to-merge-five-NCCS-files-%28for-years-2009-2013%29)\n",
    "\t\t* [Import data files, add columns, filter, and merge](#Import-data-files,-add-columns,-filter,-and-merge)\n",
    "\t\t* [Import Merged File](#Import-Merged-File)\n",
    "\t\t* [Look at Org Data](#Look-at-Org-Data)\n",
    "\t\t* [Import Census Bureau data of ~115 most populous cities](#Import-Census-Bureau-data-of-~115-most-populous-cities)\n",
    "\t\t* [Add Dependent Variables](#Add-Dependent-Variables)\n",
    "\t\t* [Another DV (low-income housing units)](#Another-DV-%28low-income-housing-units%29)\n",
    "\t\t* [Add GDP Data](#Add-GDP-Data)\n",
    "\t\t* [Descriptive Statistics (city-level](#Descriptive-Statistics-%28city-level)\n",
    "\t\t* [Create new dataset of city characterstics (like the collapse command in Stata)](#Create-new-dataset-of-city-characterstics-%28like-the-collapse-command-in-Stata%29)\n"
   ]
  },
  {
   "cell_type": "markdown",
   "metadata": {},
   "source": [
    "###Introduction"
   ]
  },
  {
   "cell_type": "markdown",
   "metadata": {},
   "source": [
    "This is a brief tutorial of how to work with the pandas library in Python to import datasets, clean and merge them together, get some descriptive statistics, and (in progress) do some statistical analysis. \n",
    "\n",
    "I started using pandas when I realized that I wanted to merge a lot of large datasets together for a research project I'm working on. My basic research question is to see whether the presence of nonprofit organizations that work in any capacity on affordable housing has an effect on affordable housing policies and outcomes.\n",
    "\n",
    "For this project, the data I'm using for nonprofit organizational presence come from the IRS (and compiled by the National Center for Charitable Statistics. The data for my outcomes of interest -- housing voucher usage and the number of affordable housing units built -- come from the U.S. Department of Housing and Urban Development (HUD). I also use data from the Census Bureau and the Bureau of Economic Analysis.\n",
    "\n",
    "The city is my unit of analysis.\n",
    "\n",
    "A big chunk of this notebook deals with importing and merging datasets to get the data ready for analysis."
   ]
  },
  {
   "cell_type": "markdown",
   "metadata": {},
   "source": [
    "###Add extensions and import modules"
   ]
  },
  {
   "cell_type": "markdown",
   "metadata": {},
   "source": [
    "If you want to load these extensions (spell check for markdown and table of contents creation), check out http://calicoproject.org/Icalico and https://github.com/minrk/ipython_extensions. "
   ]
  },
  {
   "cell_type": "code",
   "execution_count": 124,
   "metadata": {
    "collapsed": false
   },
   "outputs": [
    {
     "data": {
      "application/javascript": [
       "IPython.load_extensions('toc', 'calico-spell-check', 'calico-document-tools')"
      ],
      "text/plain": [
       "<IPython.core.display.Javascript object>"
      ]
     },
     "metadata": {},
     "output_type": "display_data"
    }
   ],
   "source": [
    "%%javascript\n",
    "IPython.load_extensions('toc', 'calico-spell-check', 'calico-document-tools')"
   ]
  },
  {
   "cell_type": "code",
   "execution_count": 2,
   "metadata": {
    "collapsed": true
   },
   "outputs": [],
   "source": [
    "# Import modules and set display settings\n",
    "\n",
    "import numpy as np\n",
    "import pandas as pd\n",
    "import matplotlib.pyplot as plt\n",
    "\n",
    "pd.set_option('display.width', 5000) \n",
    "pd.set_option('display.mpl_style', 'default') \n",
    "pd.set_option('display.max_columns', 100)"
   ]
  },
  {
   "cell_type": "code",
   "execution_count": 3,
   "metadata": {
    "collapsed": true
   },
   "outputs": [],
   "source": [
    "%matplotlib inline"
   ]
  },
  {
   "cell_type": "markdown",
   "metadata": {},
   "source": [
    "###Ideal way to merge five NCCS files (for years 2009-2013)"
   ]
  },
  {
   "cell_type": "markdown",
   "metadata": {},
   "source": [
    "Each of the NCCS yearly files I downloaded (which, unfortunately, are not freely available) contained about a million records (and approximately 60 variables). Each row contains information about a registered nonprofit organization in the U.S., including year of founding (or, more accurately, year the IRS approved nonprofit status), annual income, location, and an NTEE code (classification of an organization's main activity). For more, see http://www.irs.gov/pub/irs-soi/eo_info.pdf. \n",
    "\n",
    "Each file was about 500 MB, so merging five of them in the function below was too much for my computer. So, I narrowed down each file (i.e., data for each year) to the kinds of organizations I was interested in."
   ]
  },
  {
   "cell_type": "markdown",
   "metadata": {},
   "source": [
    "Don't execute first cell below...it has either taken too long or crashed my browser"
   ]
  },
  {
   "cell_type": "code",
   "execution_count": null,
   "metadata": {
    "collapsed": true
   },
   "outputs": [],
   "source": [
    "# Import organization text files and append to a list\n",
    "# Data from 2009 from October, not December\n",
    "\n",
    "years = range(2009, 2014)\n",
    "pieces = []\n",
    "\n",
    "for year in years:\n",
    "    path = 'C:\\Users\\Akram Al-Turk\\Box Sync\\MA data\\Org_data\\eo_te\\eo_12_%d.txt' % year\n",
    "    eo = pd.read_csv(path)  \n",
    "    eo['year'] = year\n",
    "    #eo['month'] = month\n",
    "    pieces.append(eo)\n",
    "\n",
    "# Concatenate all orgs into one DF\n",
    "\n",
    "eos = pd.concat(pieces, ignore_index=True)\n",
    "\n",
    "#\n",
    "\n",
    "eos['city_lower'] = eos.CITY.str.lower()\n",
    "eos['state_lower'] = eos.STATE.str.lower()\n",
    "\n",
    "eos['housing_in_name'] = eos.NAME.str.contains('HOUSING COALITION') | eos.NAME.str.contains('FAIR HOUSING') | eos.NAME.str.contains('AFFORDABLE HOUSING') \n",
    "eos['housing_activ'] = ((eos.ACTIV2 >= 380) & (eos.ACTIV2 <= 399)) | ((eos.ACTIV1 >= 380) & (eos.ACTIV1 <= 399)) | ((eos.ACTIV3 >= 380) & (eos.ACTIV3 <= 399))\n",
    "eos['housing_ntee'] = eos.NTEE1 == 'L'\n",
    "eos['housing_other'] = (eos.ACTIV1 == 402) | (eos.ACTIV1 == 429) | (eos.ACTIV2 == 402) | (eos.ACTIV2 == 429) | (eos.ACTIV3 == 402) | (eos.ACTIV3 == 429)\n",
    "\n",
    "eos['all_housing'] = (eos.housing_in_name == True) | (eos.housing_activ == True) | (eos.housing_ntee == True) | (eos.housing_other == True)"
   ]
  },
  {
   "cell_type": "markdown",
   "metadata": {},
   "source": [
    "###Import data files, add columns, filter, and merge"
   ]
  },
  {
   "cell_type": "markdown",
   "metadata": {},
   "source": [
    "This code is more inefficient, but ultimately works better for me."
   ]
  },
  {
   "cell_type": "markdown",
   "metadata": {},
   "source": [
    "First, let's import one of the data files and read it into a pandas dataframe."
   ]
  },
  {
   "cell_type": "code",
   "execution_count": 4,
   "metadata": {
    "collapsed": false
   },
   "outputs": [
    {
     "name": "stderr",
     "output_type": "stream",
     "text": [
      "C:\\Users\\Akram Al-Turk\\Anaconda\\lib\\site-packages\\pandas\\io\\parsers.py:1170: DtypeWarning: Columns (14) have mixed types. Specify dtype option on import or set low_memory=False.\n",
      "  data = self._reader.read(nrows)\n"
     ]
    }
   ],
   "source": [
    "orgs_13_loc = r'C:\\Users\\Akram Al-Turk\\Box Sync\\MA data\\Org_data\\eo_te\\eo_12_2013.txt'\n",
    "orgs_13 = pd.read_csv(orgs_13_loc)"
   ]
  },
  {
   "cell_type": "markdown",
   "metadata": {},
   "source": [
    "There are a number of commands that you can use to inspect the data. I'll go through a few them throughout. \n",
    "\n",
    "This one is to look at a list of variable names in the dataset."
   ]
  },
  {
   "cell_type": "code",
   "execution_count": 7,
   "metadata": {
    "collapsed": false
   },
   "outputs": [
    {
     "data": {
      "text/plain": [
       "Index([u'EIN', u'NAME', u'STATE', u'NTEE1', u'NTEECC', u'ADDRESS', u'CITY', u'ZIP', u'zip5', u'FIPS', u'MSA_NECH', u'PMSA', u'TAXPER', u'outnccs', u'OUTREAS', u'Filer', u'ZFILER', u'SUBSECCD', u'ntmaj5', u'ntmaj10', u'ntmaj12', u'NTEEconf', u'MAJGRPB', u'ACTIV1', u'ACTIV2', u'ACTIV3', u'ASCD', u'INCCD', u'INCOME', u'F990REV', u'ASSETS', u'cFiler', u'czFiler', u'cTaxPer', u'cTotRev', u'cAssets', u'cFinSrc', u'RULEDATE', u'FNDNCD', u'FRCD', u'AFCD', u'ARED', u'CONTACT', u'SEC_NAME', u'GEN', u'EOSTATUS', u'LEVEL1', u'LEVEL2', u'level3', u'level4', u'CLASSCD', u'DEDUCTCD', u'NTEEIRS', u'NAICS', u'ORGCD', u'ACCPER'], dtype='object')"
      ]
     },
     "execution_count": 7,
     "metadata": {},
     "output_type": "execute_result"
    }
   ],
   "source": [
    "orgs_13.columns"
   ]
  },
  {
   "cell_type": "markdown",
   "metadata": {},
   "source": [
    "And now just looking at the first five rows in the dataset."
   ]
  },
  {
   "cell_type": "code",
   "execution_count": 347,
   "metadata": {
    "collapsed": false
   },
   "outputs": [
    {
     "ename": "NameError",
     "evalue": "name 'orgs_13' is not defined",
     "output_type": "error",
     "traceback": [
      "\u001b[1;31m---------------------------------------------------------------------------\u001b[0m",
      "\u001b[1;31mNameError\u001b[0m                                 Traceback (most recent call last)",
      "\u001b[1;32m<ipython-input-347-001dee597041>\u001b[0m in \u001b[0;36m<module>\u001b[1;34m()\u001b[0m\n\u001b[1;32m----> 1\u001b[1;33m \u001b[0morgs_13\u001b[0m\u001b[1;33m.\u001b[0m\u001b[0mhead\u001b[0m\u001b[1;33m(\u001b[0m\u001b[1;33m)\u001b[0m\u001b[1;33m\u001b[0m\u001b[0m\n\u001b[0m",
      "\u001b[1;31mNameError\u001b[0m: name 'orgs_13' is not defined"
     ]
    }
   ],
   "source": [
    "orgs_13.head()"
   ]
  },
  {
   "cell_type": "markdown",
   "metadata": {},
   "source": [
    "Because there are a lot of variables I'm not going to use, I can just specify which ones I want."
   ]
  },
  {
   "cell_type": "code",
   "execution_count": 9,
   "metadata": {
    "collapsed": false
   },
   "outputs": [],
   "source": [
    "variables = ['EIN', 'NAME', 'NTEE1', 'NTEECC', 'CITY', 'STATE', 'zip5', 'MSA_NECH', 'ntmaj12', 'ACTIV1', 'ACTIV2', 'ACTIV3', 'INCOME', 'ASSETS', 'RULEDATE', 'NTEEIRS', 'NAICS']"
   ]
  },
  {
   "cell_type": "markdown",
   "metadata": {},
   "source": [
    "Then, I create a new dataframe that includes just my variables.\n",
    "\n",
    "I also create a few new variables. I want to add a 'year' variable, since I'll be working with five years worth of data. \n",
    "\n",
    "I then use a few string commands (see [Working with Text Data](http://pandas.pydata.org/pandas-docs/stable/text.html)). \n",
    "\n",
    "A couple of them are just to create new variables that use lower case for the city and state. I'll need this later when I merge in other datasets. \n",
    "\n",
    "Based on the IRS file I linked to above, there are a few ways we can narrow down our dataframe to include organizations that work on affordable housing. (This definitely has its limitations.) \"L\" groups are classified as \"Housing, Shelter\" and then there are some activity codes that correspond to housing-based work. "
   ]
  },
  {
   "cell_type": "code",
   "execution_count": 10,
   "metadata": {
    "collapsed": true
   },
   "outputs": [],
   "source": [
    "orgs_13 = orgs_13[variables]\n",
    "orgs_13['year'] = 2013\n",
    "\n",
    "orgs_13['city_lower'] = orgs_13.CITY.str.lower()\n",
    "orgs_13['state_lower'] = orgs_13.STATE.str.lower()\n",
    "\n",
    "orgs_13['housing_in_name'] = orgs_13.NAME.str.contains('HOUSING COALITION') | orgs_13.NAME.str.contains('FAIR HOUSING') | orgs_13.NAME.str.contains('AFFORDABLE HOUSING') \n",
    "orgs_13['housing_activ'] = ((orgs_13.ACTIV2 >= 380) & (orgs_13.ACTIV2 <= 399)) | ((orgs_13.ACTIV1 >= 380) & (orgs_13.ACTIV1 <= 399)) | ((orgs_13.ACTIV3 >= 380) & (orgs_13.ACTIV3 <= 399))\n",
    "orgs_13['housing_ntee'] = orgs_13.NTEE1 == 'L'\n",
    "orgs_13['housing_other'] = (orgs_13.ACTIV1 == 402) | (orgs_13.ACTIV1 == 429) | (orgs_13.ACTIV2 == 402) | (orgs_13.ACTIV2 == 429) | (orgs_13.ACTIV3 == 402) | (orgs_13.ACTIV3 == 429)"
   ]
  },
  {
   "cell_type": "markdown",
   "metadata": {},
   "source": [
    "We can look at the shape of the dataset. After I included just the variables I was interested in and adding a few, it looks like we now have 25 columns. And approximately 1 million rows."
   ]
  },
  {
   "cell_type": "code",
   "execution_count": 12,
   "metadata": {
    "collapsed": false
   },
   "outputs": [
    {
     "data": {
      "text/plain": [
       "(1047591, 25)"
      ]
     },
     "execution_count": 12,
     "metadata": {},
     "output_type": "execute_result"
    }
   ],
   "source": [
    "orgs_13.shape"
   ]
  },
  {
   "cell_type": "markdown",
   "metadata": {},
   "source": [
    "The code above just added (or removed) columns. It didn't filter out any records. The syntax in pandas sometimes confuses me, and this took me a few tries. You often have to write `df[(df.variable...)]` to get that subset of the dataframe. The code above didn't have this df followed by df that I have below."
   ]
  },
  {
   "cell_type": "code",
   "execution_count": 14,
   "metadata": {
    "collapsed": false
   },
   "outputs": [],
   "source": [
    "housing_orgs_13 = orgs_13[(orgs_13.housing_in_name == True) | (orgs_13.housing_activ == True) | (orgs_13.housing_ntee == True) | (orgs_13.housing_other == True)]"
   ]
  },
  {
   "cell_type": "markdown",
   "metadata": {},
   "source": [
    "As we can see from the `shape` command, the code just above this one gave us a new df, which now has 34522 rows."
   ]
  },
  {
   "cell_type": "code",
   "execution_count": 15,
   "metadata": {
    "collapsed": false
   },
   "outputs": [
    {
     "data": {
      "text/plain": [
       "(34522, 25)"
      ]
     },
     "execution_count": 15,
     "metadata": {},
     "output_type": "execute_result"
    }
   ],
   "source": [
    "housing_orgs_13.shape"
   ]
  },
  {
   "cell_type": "markdown",
   "metadata": {},
   "source": [
    "Or about 3 percent of all registered nonprofit organizations in the U.S."
   ]
  },
  {
   "cell_type": "code",
   "execution_count": 41,
   "metadata": {
    "collapsed": false
   },
   "outputs": [
    {
     "data": {
      "text/plain": [
       "'0.033'"
      ]
     },
     "execution_count": 41,
     "metadata": {},
     "output_type": "execute_result"
    }
   ],
   "source": [
    "\"%.3f\" % (34522/float(1047591))"
   ]
  },
  {
   "cell_type": "markdown",
   "metadata": {},
   "source": [
    "###Import Merged File"
   ]
  },
  {
   "cell_type": "markdown",
   "metadata": {},
   "source": [
    "After running the code above on the five files (one each for 2009-2013), I merged the five resulting dataframes. \n",
    "\n",
    "Here's how to do that:\n",
    "```\n",
    "housing_orgs_5yrs = pd.concat([housing_orgs_13, housing_orgs_12, housing_orgs_11, housing_orgs_10, housing_orgs_09])\n",
    "```"
   ]
  },
  {
   "cell_type": "markdown",
   "metadata": {},
   "source": [
    "Then, export to a csv file:\n",
    "```\n",
    "housing_orgs_5yrs.to_csv('C:\\Users\\Akram Al-Turk\\Box Sync\\MA data\\housing_orgs_5yrs.csv')\n",
    "```"
   ]
  },
  {
   "cell_type": "code",
   "execution_count": 4,
   "metadata": {
    "collapsed": false
   },
   "outputs": [
    {
     "name": "stderr",
     "output_type": "stream",
     "text": [
      "C:\\Users\\Akram Al-Turk\\Anaconda\\lib\\site-packages\\pandas\\io\\parsers.py:1170: DtypeWarning: Columns (8) have mixed types. Specify dtype option on import or set low_memory=False.\n",
      "  data = self._reader.read(nrows)\n"
     ]
    }
   ],
   "source": [
    "#import merged file\n",
    "housing_orgs_location = r'C:\\Users\\Akram Al-Turk\\Box Sync\\MA data\\housing_orgs_5yrs.csv'\n",
    "housing_orgs_5yrs = pd.read_csv(housing_orgs_location)"
   ]
  },
  {
   "cell_type": "markdown",
   "metadata": {},
   "source": [
    "###Look at Org Data"
   ]
  },
  {
   "cell_type": "code",
   "execution_count": 5,
   "metadata": {
    "collapsed": false
   },
   "outputs": [
    {
     "data": {
      "text/plain": [
       "(189756, 26)"
      ]
     },
     "execution_count": 5,
     "metadata": {},
     "output_type": "execute_result"
    }
   ],
   "source": [
    "housing_orgs_5yrs.shape"
   ]
  },
  {
   "cell_type": "markdown",
   "metadata": {},
   "source": [
    "We see we have 189,756 organization-year observations."
   ]
  },
  {
   "cell_type": "code",
   "execution_count": 6,
   "metadata": {
    "collapsed": false
   },
   "outputs": [
    {
     "data": {
      "text/html": [
       "<div>\n",
       "<table border=\"1\" class=\"dataframe\">\n",
       "  <thead>\n",
       "    <tr style=\"text-align: right;\">\n",
       "      <th></th>\n",
       "      <th>Unnamed: 0</th>\n",
       "      <th>EIN</th>\n",
       "      <th>NAME</th>\n",
       "      <th>NTEE1</th>\n",
       "      <th>NTEECC</th>\n",
       "      <th>CITY</th>\n",
       "      <th>STATE</th>\n",
       "      <th>zip5</th>\n",
       "      <th>MSA_NECH</th>\n",
       "      <th>ntmaj12</th>\n",
       "      <th>ACTIV1</th>\n",
       "      <th>ACTIV2</th>\n",
       "      <th>ACTIV3</th>\n",
       "      <th>INCOME</th>\n",
       "      <th>ASSETS</th>\n",
       "      <th>RULEDATE</th>\n",
       "      <th>NTEEIRS</th>\n",
       "      <th>NAICS</th>\n",
       "      <th>year</th>\n",
       "      <th>month</th>\n",
       "      <th>city_lower</th>\n",
       "      <th>state_lower</th>\n",
       "      <th>housing_in_name</th>\n",
       "      <th>housing_activ</th>\n",
       "      <th>housing_ntee</th>\n",
       "      <th>housing_other</th>\n",
       "    </tr>\n",
       "  </thead>\n",
       "  <tbody>\n",
       "    <tr>\n",
       "      <th>0</th>\n",
       "      <td>29</td>\n",
       "      <td>10024907</td>\n",
       "      <td>BAR HARBOR VILLAGE IMPROVEMENT ASSOCIATION</td>\n",
       "      <td>S</td>\n",
       "      <td>S20</td>\n",
       "      <td>BAR HARBOR</td>\n",
       "      <td>ME</td>\n",
       "      <td>4609</td>\n",
       "      <td>NaN</td>\n",
       "      <td>PU</td>\n",
       "      <td>402</td>\n",
       "      <td>404</td>\n",
       "      <td>0</td>\n",
       "      <td>42247</td>\n",
       "      <td>612052</td>\n",
       "      <td>199603</td>\n",
       "      <td>S20Z</td>\n",
       "      <td>813410</td>\n",
       "      <td>2013</td>\n",
       "      <td>12</td>\n",
       "      <td>bar harbor</td>\n",
       "      <td>me</td>\n",
       "      <td>False</td>\n",
       "      <td>False</td>\n",
       "      <td>False</td>\n",
       "      <td>True</td>\n",
       "    </tr>\n",
       "    <tr>\n",
       "      <th>1</th>\n",
       "      <td>35</td>\n",
       "      <td>10131950</td>\n",
       "      <td>PLANT MEMORIAL HOME</td>\n",
       "      <td>A</td>\n",
       "      <td>A80</td>\n",
       "      <td>BATH</td>\n",
       "      <td>ME</td>\n",
       "      <td>4530</td>\n",
       "      <td>NaN</td>\n",
       "      <td>AR</td>\n",
       "      <td>382</td>\n",
       "      <td>0</td>\n",
       "      <td>0</td>\n",
       "      <td>1790944</td>\n",
       "      <td>4500326</td>\n",
       "      <td>197202</td>\n",
       "      <td>NaN</td>\n",
       "      <td>712120</td>\n",
       "      <td>2013</td>\n",
       "      <td>12</td>\n",
       "      <td>bath</td>\n",
       "      <td>me</td>\n",
       "      <td>False</td>\n",
       "      <td>True</td>\n",
       "      <td>False</td>\n",
       "      <td>False</td>\n",
       "    </tr>\n",
       "    <tr>\n",
       "      <th>2</th>\n",
       "      <td>74</td>\n",
       "      <td>10211504</td>\n",
       "      <td>EUNICE FRYE HOME</td>\n",
       "      <td>L</td>\n",
       "      <td>L99</td>\n",
       "      <td>PORTLAND</td>\n",
       "      <td>ME</td>\n",
       "      <td>4112</td>\n",
       "      <td>6403</td>\n",
       "      <td>HU</td>\n",
       "      <td>382</td>\n",
       "      <td>399</td>\n",
       "      <td>0</td>\n",
       "      <td>1264856</td>\n",
       "      <td>1440996</td>\n",
       "      <td>194303</td>\n",
       "      <td>NaN</td>\n",
       "      <td>624220</td>\n",
       "      <td>2013</td>\n",
       "      <td>12</td>\n",
       "      <td>portland</td>\n",
       "      <td>me</td>\n",
       "      <td>False</td>\n",
       "      <td>True</td>\n",
       "      <td>True</td>\n",
       "      <td>False</td>\n",
       "    </tr>\n",
       "    <tr>\n",
       "      <th>3</th>\n",
       "      <td>79</td>\n",
       "      <td>10211512</td>\n",
       "      <td>HOME FOR THE AGED</td>\n",
       "      <td>P</td>\n",
       "      <td>P75</td>\n",
       "      <td>PORTLAND</td>\n",
       "      <td>ME</td>\n",
       "      <td>4103</td>\n",
       "      <td>6403</td>\n",
       "      <td>HU</td>\n",
       "      <td>382</td>\n",
       "      <td>0</td>\n",
       "      <td>0</td>\n",
       "      <td>6386270</td>\n",
       "      <td>15951540</td>\n",
       "      <td>194207</td>\n",
       "      <td>P750</td>\n",
       "      <td>623311</td>\n",
       "      <td>2013</td>\n",
       "      <td>12</td>\n",
       "      <td>portland</td>\n",
       "      <td>me</td>\n",
       "      <td>False</td>\n",
       "      <td>True</td>\n",
       "      <td>False</td>\n",
       "      <td>False</td>\n",
       "    </tr>\n",
       "    <tr>\n",
       "      <th>4</th>\n",
       "      <td>94</td>\n",
       "      <td>10211545</td>\n",
       "      <td>PORTLAND SEAMENS FRIEND SOCIETY</td>\n",
       "      <td>T</td>\n",
       "      <td>T23</td>\n",
       "      <td>WESTBROOK</td>\n",
       "      <td>ME</td>\n",
       "      <td>4092</td>\n",
       "      <td>6403</td>\n",
       "      <td>PU</td>\n",
       "      <td>399</td>\n",
       "      <td>0</td>\n",
       "      <td>0</td>\n",
       "      <td>102519</td>\n",
       "      <td>172085</td>\n",
       "      <td>195003</td>\n",
       "      <td>NaN</td>\n",
       "      <td>813211</td>\n",
       "      <td>2013</td>\n",
       "      <td>12</td>\n",
       "      <td>westbrook</td>\n",
       "      <td>me</td>\n",
       "      <td>False</td>\n",
       "      <td>True</td>\n",
       "      <td>False</td>\n",
       "      <td>False</td>\n",
       "    </tr>\n",
       "  </tbody>\n",
       "</table>\n",
       "</div>"
      ],
      "text/plain": [
       "   Unnamed: 0       EIN                                        NAME NTEE1 NTEECC        CITY STATE  zip5 MSA_NECH ntmaj12  ACTIV1  ACTIV2  ACTIV3   INCOME    ASSETS  RULEDATE NTEEIRS   NAICS  year  month  city_lower state_lower housing_in_name housing_activ housing_ntee housing_other\n",
       "0          29  10024907  BAR HARBOR VILLAGE IMPROVEMENT ASSOCIATION     S    S20  BAR HARBOR    ME  4609      NaN      PU     402     404       0    42247    612052    199603    S20Z  813410  2013     12  bar harbor          me           False         False        False          True\n",
       "1          35  10131950                         PLANT MEMORIAL HOME     A    A80        BATH    ME  4530      NaN      AR     382       0       0  1790944   4500326    197202     NaN  712120  2013     12        bath          me           False          True        False         False\n",
       "2          74  10211504                            EUNICE FRYE HOME     L    L99    PORTLAND    ME  4112     6403      HU     382     399       0  1264856   1440996    194303     NaN  624220  2013     12    portland          me           False          True         True         False\n",
       "3          79  10211512                           HOME FOR THE AGED     P    P75    PORTLAND    ME  4103     6403      HU     382       0       0  6386270  15951540    194207    P750  623311  2013     12    portland          me           False          True        False         False\n",
       "4          94  10211545             PORTLAND SEAMENS FRIEND SOCIETY     T    T23   WESTBROOK    ME  4092     6403      PU     399       0       0   102519    172085    195003     NaN  813211  2013     12   westbrook          me           False          True        False         False"
      ]
     },
     "execution_count": 6,
     "metadata": {},
     "output_type": "execute_result"
    }
   ],
   "source": [
    "housing_orgs_5yrs.head()"
   ]
  },
  {
   "cell_type": "markdown",
   "metadata": {},
   "source": [
    "Let's see how many orgs there are per year.\n",
    "\n",
    "We can use `value.counts` or we can do `groupby` and plot with matplotlib.\n",
    "\n",
    "There's probably a more efficient way than the plot example below."
   ]
  },
  {
   "cell_type": "code",
   "execution_count": 7,
   "metadata": {
    "collapsed": false
   },
   "outputs": [
    {
     "name": "stdout",
     "output_type": "stream",
     "text": [
      "Housing Orgs by Year\n",
      "\n",
      "2010    41718\n",
      "2009    41337\n",
      "2011    36371\n",
      "2012    35808\n",
      "2013    34522\n",
      "dtype: int64\n"
     ]
    }
   ],
   "source": [
    "print \"Housing Orgs by Year\\n\"\n",
    "\n",
    "print housing_orgs_5yrs['year'].value_counts()"
   ]
  },
  {
   "cell_type": "code",
   "execution_count": 15,
   "metadata": {
    "collapsed": false
   },
   "outputs": [],
   "source": [
    "yearly_counts = housing_orgs_5yrs.groupby('year').EIN.nunique()"
   ]
  },
  {
   "cell_type": "code",
   "execution_count": 36,
   "metadata": {
    "collapsed": false
   },
   "outputs": [
    {
     "data": {
      "text/plain": [
       "<matplotlib.text.Text at 0x13204898>"
      ]
     },
     "execution_count": 36,
     "metadata": {},
     "output_type": "execute_result"
    },
    {
     "data": {
      "image/png": "[encoded data removed]",
      "text/plain": [
       "<matplotlib.figure.Figure at 0xd478e10>"
      ]
     },
     "metadata": {},
     "output_type": "display_data"
    }
   ],
   "source": [
    "#could be a lot better\n",
    "\n",
    "yearly_counts.plot()\n",
    "plt.title(\"Orgs by Year\")\n",
    "plt.ylabel('Count')\n",
    "plt.axis([2009, 2013, 25000, 50000])\n",
    "plt.xlabel('Year')"
   ]
  },
  {
   "cell_type": "markdown",
   "metadata": {},
   "source": [
    "###Import Census Bureau data of ~115 most populous cities"
   ]
  },
  {
   "cell_type": "markdown",
   "metadata": {},
   "source": [
    "This is a file I downloaded from Social Explorer."
   ]
  },
  {
   "cell_type": "code",
   "execution_count": 39,
   "metadata": {
    "collapsed": true
   },
   "outputs": [],
   "source": [
    "# Import city characteristics file (2009-2013)\n",
    "\n",
    "cities_location = r'C:\\Users\\Akram Al-Turk\\Box Sync\\MA Data\\census_2009_2013.csv'\n",
    "cities = pd.read_csv(cities_location)"
   ]
  },
  {
   "cell_type": "code",
   "execution_count": 41,
   "metadata": {
    "collapsed": false
   },
   "outputs": [
    {
     "data": {
      "text/html": [
       "<div>\n",
       "<table border=\"1\" class=\"dataframe\">\n",
       "  <thead>\n",
       "    <tr style=\"text-align: right;\">\n",
       "      <th></th>\n",
       "      <th>Year</th>\n",
       "      <th>FIPS</th>\n",
       "      <th>Name of Area</th>\n",
       "      <th>Qualifying Name</th>\n",
       "      <th>State/U.S.-Abbreviation (USPS)</th>\n",
       "      <th>Summary Level</th>\n",
       "      <th>Geographic Component</th>\n",
       "      <th>File Identification</th>\n",
       "      <th>Logical Record Number</th>\n",
       "      <th>State (FIPS)</th>\n",
       "      <th>Place (FIPS Code)</th>\n",
       "      <th>Place (State FIPS + Place FIPS)</th>\n",
       "      <th>Metropolitan and Micropolitan Statistical Area</th>\n",
       "      <th>Principal City Indicator</th>\n",
       "      <th>Geographic Identifier</th>\n",
       "      <th>Area (Land)</th>\n",
       "      <th>Area (Water)</th>\n",
       "      <th>Total Population</th>\n",
       "      <th>Area Total</th>\n",
       "      <th>Area (Land).1</th>\n",
       "      <th>Area (Water).1</th>\n",
       "      <th>Total Population.1</th>\n",
       "      <th>White Alone</th>\n",
       "      <th>Black or African American Alone</th>\n",
       "      <th>American Indian and Alaska Native Alone</th>\n",
       "      <th>Asian Alone</th>\n",
       "      <th>Native Hawaiian and Other Pacific Islander Alone</th>\n",
       "      <th>Some Other Race Alone</th>\n",
       "      <th>Two or More races</th>\n",
       "      <th>Population 16 Years and over</th>\n",
       "      <th>Population 16 Years and over: In labor force</th>\n",
       "      <th>Population 16 Years and over: In labor force: In Armed Forces</th>\n",
       "      <th>Population 16 Years and over: In labor force: Civilian</th>\n",
       "      <th>Population 16 Years and over: In labor force: Civilian: Employed</th>\n",
       "      <th>Population 16 Years and over: In labor force: Civilian: Unemployed</th>\n",
       "      <th>Population 16 Years and over: Not in labor force</th>\n",
       "      <th>Civilian Population In Labor Force 16 Years And Over</th>\n",
       "      <th>Civilian Population In Labor Force 16 Years And Over: Employed</th>\n",
       "      <th>Civilian Population In Labor Force 16 Years And Over: Unemployed</th>\n",
       "      <th>Median household income (In 2013 Inflation adjusted dollars)</th>\n",
       "      <th>Households: Gini Index</th>\n",
       "      <th>Housing units</th>\n",
       "      <th>Median year structure built</th>\n",
       "      <th>Owner-occupied housing units: Median value</th>\n",
       "      <th>Renter-occupied housing units</th>\n",
       "      <th>Renter-occupied housing units: Gross Rent As A Percentage Of Household Income In 2011: Less than 10 percent</th>\n",
       "      <th>Renter-occupied housing units: Gross Rent As A Percentage Of Household Income In 2011: 10 to 29 percent</th>\n",
       "      <th>Renter-occupied housing units: Gross Rent As A Percentage Of Household Income In 2011: 30 to 49 percent</th>\n",
       "      <th>Renter-occupied housing units: Gross Rent As A Percentage Of Household Income In 2011: 50 percent or More</th>\n",
       "      <th>Renter-occupied housing units: Gross Rent As A Percentage Of Household Income In 2011: Not computed</th>\n",
       "      <th>Renter-Occupied Paying Cash Rent: Median Gross Rent as a Percentage of Household Income In 2013</th>\n",
       "      <th>Families</th>\n",
       "      <th>Families: Income in 2013 below poverty level</th>\n",
       "      <th>Families: Income in 2013 below poverty level: Married Couple Family: With Related Child Living Bellow Poverty Level</th>\n",
       "      <th>Families: Income in 2013 below poverty level: Married Couple Family: No related children under 18 Years</th>\n",
       "      <th>Families: Income in 2013 below poverty level: Male Householder, no wife present</th>\n",
       "      <th>Families: Income in 2013 below poverty level: Male Householder, no wife present: With related children under 18 Years</th>\n",
       "      <th>Families: Income in 2013 below poverty level: Male Householder, no wife present: No related children under 18 Years</th>\n",
       "      <th>Families: Income in 2013 below poverty level: Female Householder, no husband present</th>\n",
       "      <th>Families: Income in 2013 below poverty level: Female Householder, no husband present: With related children under 18 Years</th>\n",
       "      <th>Families: Income in 2013 below poverty level: Female Householder, no husband present: No related children under 18 Years</th>\n",
       "      <th>Families: Income in 2013 at or above poverty level</th>\n",
       "      <th>Population Age 18 to 64 for whom poverty status is determined</th>\n",
       "      <th>Population Age 18 to 64 for whom poverty status is determined: Living in Poverty</th>\n",
       "      <th>Population Age 18 to 64 for whom poverty status is determined: At or Above Poverty Level</th>\n",
       "    </tr>\n",
       "  </thead>\n",
       "  <tbody>\n",
       "    <tr>\n",
       "      <th>0</th>\n",
       "      <td>2013</td>\n",
       "      <td>3.640000e+11</td>\n",
       "      <td>New York city; New York-Newark-Jersey City, NY...</td>\n",
       "      <td>New York city; New York-Newark-Jersey City, Ne...</td>\n",
       "      <td>ny</td>\n",
       "      <td>321</td>\n",
       "      <td>0</td>\n",
       "      <td>ACSSF</td>\n",
       "      <td>26405</td>\n",
       "      <td>36</td>\n",
       "      <td>51000</td>\n",
       "      <td>3651000</td>\n",
       "      <td>35620</td>\n",
       "      <td>Y</td>\n",
       "      <td>32100US363562051000</td>\n",
       "      <td>783842402</td>\n",
       "      <td>429527437</td>\n",
       "      <td>8268999</td>\n",
       "      <td>468.4847</td>\n",
       "      <td>302.6433</td>\n",
       "      <td>165.8415</td>\n",
       "      <td>8268999</td>\n",
       "      <td>3659155</td>\n",
       "      <td>2057226</td>\n",
       "      <td>32421</td>\n",
       "      <td>1077554</td>\n",
       "      <td>4403</td>\n",
       "      <td>1189355</td>\n",
       "      <td>248885</td>\n",
       "      <td>6694673</td>\n",
       "      <td>4244118</td>\n",
       "      <td>3309</td>\n",
       "      <td>4240809</td>\n",
       "      <td>3789820</td>\n",
       "      <td>450989</td>\n",
       "      <td>2450555</td>\n",
       "      <td>4240809</td>\n",
       "      <td>3789820</td>\n",
       "      <td>450989</td>\n",
       "      <td>52259</td>\n",
       "      <td>0.5402</td>\n",
       "      <td>3380513</td>\n",
       "      <td>1948</td>\n",
       "      <td>492800</td>\n",
       "      <td>2080590</td>\n",
       "      <td>98360</td>\n",
       "      <td>823241</td>\n",
       "      <td>476588</td>\n",
       "      <td>581148</td>\n",
       "      <td>101253</td>\n",
       "      <td>31.900000</td>\n",
       "      <td>1844540</td>\n",
       "      <td>318457</td>\n",
       "      <td>73665</td>\n",
       "      <td>41153</td>\n",
       "      <td>28784</td>\n",
       "      <td>19448</td>\n",
       "      <td>9336</td>\n",
       "      <td>174855</td>\n",
       "      <td>138611</td>\n",
       "      <td>36244</td>\n",
       "      <td>1526083</td>\n",
       "      <td>5393156</td>\n",
       "      <td>957146</td>\n",
       "      <td>4436010</td>\n",
       "    </tr>\n",
       "    <tr>\n",
       "      <th>1</th>\n",
       "      <td>2013</td>\n",
       "      <td>6.310804e+10</td>\n",
       "      <td>Los Angeles city; Los Angeles-Long Beach-Anahe...</td>\n",
       "      <td>Los Angeles city; Los Angeles-Long Beach-Anahe...</td>\n",
       "      <td>ca</td>\n",
       "      <td>321</td>\n",
       "      <td>0</td>\n",
       "      <td>ACSSF</td>\n",
       "      <td>37860</td>\n",
       "      <td>6</td>\n",
       "      <td>44000</td>\n",
       "      <td>644000</td>\n",
       "      <td>31080</td>\n",
       "      <td>Y</td>\n",
       "      <td>32100US063108044000</td>\n",
       "      <td>NaN</td>\n",
       "      <td>NaN</td>\n",
       "      <td>3827261</td>\n",
       "      <td>NaN</td>\n",
       "      <td>NaN</td>\n",
       "      <td>NaN</td>\n",
       "      <td>3827261</td>\n",
       "      <td>2006054</td>\n",
       "      <td>357932</td>\n",
       "      <td>20424</td>\n",
       "      <td>434846</td>\n",
       "      <td>6924</td>\n",
       "      <td>872000</td>\n",
       "      <td>129081</td>\n",
       "      <td>3062309</td>\n",
       "      <td>2034246</td>\n",
       "      <td>1414</td>\n",
       "      <td>2032832</td>\n",
       "      <td>1787083</td>\n",
       "      <td>245749</td>\n",
       "      <td>1028063</td>\n",
       "      <td>2032832</td>\n",
       "      <td>1787083</td>\n",
       "      <td>245749</td>\n",
       "      <td>49497</td>\n",
       "      <td>0.5257</td>\n",
       "      <td>1422368</td>\n",
       "      <td>1960</td>\n",
       "      <td>446100</td>\n",
       "      <td>824597</td>\n",
       "      <td>18097</td>\n",
       "      <td>288370</td>\n",
       "      <td>212744</td>\n",
       "      <td>265981</td>\n",
       "      <td>39405</td>\n",
       "      <td>36.299999</td>\n",
       "      <td>799536</td>\n",
       "      <td>142361</td>\n",
       "      <td>42419</td>\n",
       "      <td>15113</td>\n",
       "      <td>18666</td>\n",
       "      <td>14567</td>\n",
       "      <td>4099</td>\n",
       "      <td>66163</td>\n",
       "      <td>55645</td>\n",
       "      <td>10518</td>\n",
       "      <td>657175</td>\n",
       "      <td>2505285</td>\n",
       "      <td>491940</td>\n",
       "      <td>2013345</td>\n",
       "    </tr>\n",
       "  </tbody>\n",
       "</table>\n",
       "</div>"
      ],
      "text/plain": [
       "   Year          FIPS                                       Name of Area                                    Qualifying Name State/U.S.-Abbreviation (USPS)  Summary Level  Geographic Component File Identification  Logical Record Number  State (FIPS)  Place (FIPS Code)  Place (State FIPS + Place FIPS)  Metropolitan and Micropolitan Statistical Area Principal City Indicator Geographic Identifier  Area (Land)  Area (Water)  Total Population  Area Total  Area (Land).1  Area (Water).1  Total Population.1  White Alone  Black or African American Alone  American Indian and Alaska Native Alone  Asian Alone  Native Hawaiian and Other Pacific Islander Alone  Some Other Race Alone  Two or More races  Population 16 Years and over  Population 16 Years and over: In labor force  Population 16 Years and over: In labor force: In Armed Forces  Population 16 Years and over: In labor force: Civilian  Population 16 Years and over: In labor force: Civilian: Employed  Population 16 Years and over: In labor force: Civilian: Unemployed  Population 16 Years and over: Not in labor force  Civilian Population In Labor Force 16 Years And Over  Civilian Population In Labor Force 16 Years And Over: Employed  Civilian Population In Labor Force 16 Years And Over: Unemployed  Median household income (In 2013 Inflation adjusted dollars)  Households: Gini Index  Housing units  Median year structure built  Owner-occupied housing units: Median value  Renter-occupied housing units  Renter-occupied housing units: Gross Rent As A Percentage Of Household Income In 2011: Less than 10 percent  Renter-occupied housing units: Gross Rent As A Percentage Of Household Income In 2011: 10 to 29 percent  Renter-occupied housing units: Gross Rent As A Percentage Of Household Income In 2011: 30 to 49 percent  Renter-occupied housing units: Gross Rent As A Percentage Of Household Income In 2011: 50 percent or More  Renter-occupied housing units: Gross Rent As A Percentage Of Household Income In 2011: Not computed  Renter-Occupied Paying Cash Rent: Median Gross Rent as a Percentage of Household Income In 2013  Families  Families: Income in 2013 below poverty level  Families: Income in 2013 below poverty level: Married Couple Family: With Related Child Living Bellow Poverty Level  Families: Income in 2013 below poverty level: Married Couple Family: No related children under 18 Years  Families: Income in 2013 below poverty level: Male Householder, no wife present  Families: Income in 2013 below poverty level: Male Householder, no wife present: With related children under 18 Years  Families: Income in 2013 below poverty level: Male Householder, no wife present: No related children under 18 Years  Families: Income in 2013 below poverty level: Female Householder, no husband present  Families: Income in 2013 below poverty level: Female Householder, no husband present: With related children under 18 Years  Families: Income in 2013 below poverty level: Female Householder, no husband present: No related children under 18 Years  Families: Income in 2013 at or above poverty level  Population Age 18 to 64 for whom poverty status is determined  Population Age 18 to 64 for whom poverty status is determined: Living in Poverty  Population Age 18 to 64 for whom poverty status is determined: At or Above Poverty Level\n",
       "0  2013  3.640000e+11  New York city; New York-Newark-Jersey City, NY...  New York city; New York-Newark-Jersey City, Ne...                             ny            321                     0               ACSSF                  26405            36              51000                          3651000                                           35620                        Y   32100US363562051000    783842402     429527437           8268999    468.4847       302.6433        165.8415             8268999      3659155                          2057226                                    32421      1077554                                              4403                1189355             248885                       6694673                                       4244118                                               3309                                                        4240809                                                 3789820                                                            450989                                                            2450555                                            4240809                                               3789820                                                          450989                                                             52259                             0.5402        3380513                         1948                                      492800                        2080590                                              98360                                                                                                       823241                                                                                                   476588                                                                                                   581148                                                                                                     101253                                                                                            31.900000                                                 1844540                                        318457                                              73665                                                                                                                41153                                                                                                    28784                                                                            19448                                                                                                                   9336                                                                                                               174855                                                                                138611                                                                                                                       36244                                                                                                                   1526083                                             5393156                                                         957146                                                                           4436010                                       \n",
       "1  2013  6.310804e+10  Los Angeles city; Los Angeles-Long Beach-Anahe...  Los Angeles city; Los Angeles-Long Beach-Anahe...                             ca            321                     0               ACSSF                  37860             6              44000                           644000                                           31080                        Y   32100US063108044000          NaN           NaN           3827261         NaN            NaN             NaN             3827261      2006054                           357932                                    20424       434846                                              6924                 872000             129081                       3062309                                       2034246                                               1414                                                        2032832                                                 1787083                                                            245749                                                            1028063                                            2032832                                               1787083                                                          245749                                                             49497                             0.5257        1422368                         1960                                      446100                         824597                                              18097                                                                                                       288370                                                                                                   212744                                                                                                   265981                                                                                                      39405                                                                                            36.299999                                                  799536                                        142361                                              42419                                                                                                                15113                                                                                                    18666                                                                            14567                                                                                                                   4099                                                                                                                66163                                                                                 55645                                                                                                                       10518                                                                                                                    657175                                             2505285                                                         491940                                                                           2013345                                       "
      ]
     },
     "execution_count": 41,
     "metadata": {},
     "output_type": "execute_result"
    }
   ],
   "source": [
    "cities.head(2)"
   ]
  },
  {
   "cell_type": "markdown",
   "metadata": {},
   "source": [
    "Which cities are in the dataset? \n",
    "\n",
    "We can use `unique`."
   ]
  },
  {
   "cell_type": "code",
   "execution_count": 42,
   "metadata": {
    "collapsed": false
   },
   "outputs": [
    {
     "data": {
      "text/plain": [
       "array([ 'New York city; New York-Newark-Jersey City, NY-NJ-PA Metro Area (part); New York',\n",
       "       'Los Angeles city; Los Angeles-Long Beach-Anaheim, CA Metro Area; California',\n",
       "       'Chicago city; Chicago-Naperville-Elgin, IL-IN-WI Metro Area (part); Illinois',\n",
       "       'Houston city; Houston-The Woodlands-Sugar Land, TX Metro Area; Texas',\n",
       "       'Philadelphia city; Philadelphia-Camden-Wilmington, PA-NJ-DE-MD Metro Area (part); Pennsylvania',\n",
       "       'Phoenix city; Phoenix-Mesa-Scottsdale, AZ Metro Area; Arizona',\n",
       "       'San Antonio city; San Antonio-New Braunfels, TX Metro Area; Texas',\n",
       "       'San Diego city; San Diego-Carlsbad, CA Metro Area; California',\n",
       "       'Dallas city; Dallas-Fort Worth-Arlington, TX Metro Area; Texas',\n",
       "       'San Jose city; San Jose-Sunnyvale-Santa Clara, CA Metro Area; California',\n",
       "       'Austin city; Austin-Round Rock, TX Metro Area; Texas',\n",
       "       'Jacksonville city; Jacksonville, FL Metro Area; Florida',\n",
       "       'Indianapolis city (balance); Indianapolis-Carmel-Anderson, IN Metro Area; Indiana',\n",
       "       'San Francisco city; San Francisco-Oakland-Hayward, CA Metro Area; California',\n",
       "       'Columbus city; Columbus, OH Metro Area; Ohio',\n",
       "       'Fort Worth city; Dallas-Fort Worth-Arlington, TX Metro Area; Texas',\n",
       "       'Charlotte city; Charlotte-Concord-Gastonia, NC-SC Metro Area (part); North Carolina',\n",
       "       'Detroit city; Detroit-Warren-Dearborn, MI Metro Area; Michigan',\n",
       "       'El Paso city; El Paso, TX Metro Area; Texas',\n",
       "       'Memphis city; Memphis, TN-MS-AR Metro Area (part); Tennessee',\n",
       "       'Boston city; Boston-Cambridge-Newton, MA-NH Metro Area (part); Massachusetts',\n",
       "       'Seattle city; Seattle-Tacoma-Bellevue, WA Metro Area; Washington',\n",
       "       'Baltimore city; Baltimore-Columbia-Towson, MD Metro Area; Maryland',\n",
       "       'Washington city; Washington-Arlington-Alexandria, DC-VA-MD-WV Metro Area (part); District of Columbia',\n",
       "       'Denver city; Denver-Aurora-Lakewood, CO Metro Area; Colorado',\n",
       "       'Nashville-Davidson metropolitan government (balance); Nashville-Davidson--Murfreesboro--Franklin, TN Metro Area; Tennessee',\n",
       "       'Louisville/Jefferson County metro government (balance); Louisville/Jefferson County, KY-IN Metro Area (part); Kentucky',\n",
       "       'Milwaukee city; Milwaukee-Waukesha-West Allis, WI Metro Area; Wisconsin',\n",
       "       'Portland city; Portland-Vancouver-Hillsboro, OR-WA Metro Area (part); Oregon',\n",
       "       'Las Vegas city; Las Vegas-Henderson-Paradise, NV Metro Area; Nevada',\n",
       "       'Oklahoma City city (part); Oklahoma City, OK Metro Area; Oklahoma',\n",
       "       'Albuquerque city; Albuquerque, NM Metro Area; New Mexico',\n",
       "       'Tucson city; Tucson, AZ Metro Area; Arizona',\n",
       "       'Fresno city; Fresno, CA Metro Area; California',\n",
       "       'Sacramento city; Sacramento--Roseville--Arden-Arcade, CA Metro Area; California',\n",
       "       'Long Beach city; Los Angeles-Long Beach-Anaheim, CA Metro Area; California',\n",
       "       'Kansas City city; Kansas City, MO-KS Metro Area (part); Missouri',\n",
       "       'Mesa city; Phoenix-Mesa-Scottsdale, AZ Metro Area; Arizona',\n",
       "       'Virginia Beach city; Virginia Beach-Norfolk-Newport News, VA-NC Metro Area (part); Virginia',\n",
       "       'Atlanta city; Atlanta-Sandy Springs-Roswell, GA Metro Area; Georgia',\n",
       "       'Colorado Springs city; Colorado Springs, CO Metro Area; Colorado',\n",
       "       'Omaha city; Omaha-Council Bluffs, NE-IA Metro Area (part); Nebraska',\n",
       "       'Raleigh city (part); Raleigh, NC Metro Area; North Carolina',\n",
       "       'Miami city; Miami-Fort Lauderdale-West Palm Beach, FL Metro Area; Florida',\n",
       "       'Oakland city; San Francisco-Oakland-Hayward, CA Metro Area; California',\n",
       "       'Cleveland city; Cleveland-Elyria, OH Metro Area; Ohio',\n",
       "       'Tulsa city; Tulsa, OK Metro Area; Oklahoma',\n",
       "       'Minneapolis city; Minneapolis-St. Paul-Bloomington, MN-WI Metro Area (part); Minnesota',\n",
       "       'Wichita city; Wichita, KS Metro Area; Kansas',\n",
       "       'San Juan zona urbana; San Juan-Carolina-Caguas, PR Metro Area; Puerto Rico',\n",
       "       'Arlington city; Dallas-Fort Worth-Arlington, TX Metro Area; Texas',\n",
       "       'New Orleans city; New Orleans-Metairie, LA Metro Area; Louisiana',\n",
       "       'Bakersfield city; Bakersfield, CA Metro Area; California',\n",
       "       'Tampa city; Tampa-St. Petersburg-Clearwater, FL Metro Area; Florida',\n",
       "       'Urban Honolulu CDP; Urban Honolulu, HI Metro Area; Hawaii',\n",
       "       'Anaheim city; Los Angeles-Long Beach-Anaheim, CA Metro Area; California',\n",
       "       'Aurora city; Denver-Aurora-Lakewood, CO Metro Area; Colorado',\n",
       "       'Santa Ana city; Los Angeles-Long Beach-Anaheim, CA Metro Area; California',\n",
       "       'St. Louis city; St. Louis, MO-IL Metro Area (part); Missouri',\n",
       "       'Riverside city; Riverside-San Bernardino-Ontario, CA Metro Area; California',\n",
       "       'Corpus Christi city (part); Corpus Christi, TX Metro Area; Texas',\n",
       "       'Pittsburgh city; Pittsburgh, PA Metro Area; Pennsylvania',\n",
       "       'Lexington-Fayette urban county; Lexington-Fayette, KY Metro Area; Kentucky',\n",
       "       'Cincinnati city; Cincinnati, OH-KY-IN Metro Area (part); Ohio',\n",
       "       'Anchorage municipality; Anchorage, AK Metro Area; Alaska',\n",
       "       'Stockton city; Stockton-Lodi, CA Metro Area; California',\n",
       "       'St. Paul city; Minneapolis-St. Paul-Bloomington, MN-WI Metro Area (part); Minnesota',\n",
       "       'Toledo city; Toledo, OH Metro Area; Ohio',\n",
       "       'Newark city; New York-Newark-Jersey City, NY-NJ-PA Metro Area (part); New Jersey',\n",
       "       'Greensboro city; Greensboro-High Point, NC Metro Area; North Carolina',\n",
       "       'Plano city; Dallas-Fort Worth-Arlington, TX Metro Area; Texas',\n",
       "       'Lincoln city; Lincoln, NE Metro Area; Nebraska',\n",
       "       'Henderson city; Las Vegas-Henderson-Paradise, NV Metro Area; Nevada',\n",
       "       'Buffalo city; Buffalo-Cheektowaga-Niagara Falls, NY Metro Area; New York',\n",
       "       'Fort Wayne city; Fort Wayne, IN Metro Area; Indiana',\n",
       "       'Jersey City city; New York-Newark-Jersey City, NY-NJ-PA Metro Area (part); New Jersey',\n",
       "       'St. Petersburg city; Tampa-St. Petersburg-Clearwater, FL Metro Area; Florida',\n",
       "       'Orlando city; Orlando-Kissimmee-Sanford, FL Metro Area; Florida',\n",
       "       'Norfolk city; Virginia Beach-Norfolk-Newport News, VA-NC Metro Area (part); Virginia',\n",
       "       'Laredo city; Laredo, TX Metro Area; Texas',\n",
       "       'Madison city; Madison, WI Metro Area; Wisconsin',\n",
       "       'Durham city (part); Durham-Chapel Hill, NC Metro Area; North Carolina',\n",
       "       'Lubbock city; Lubbock, TX Metro Area; Texas',\n",
       "       'Winston-Salem city; Winston-Salem, NC Metro Area; North Carolina',\n",
       "       'Baton Rouge city; Baton Rouge, LA Metro Area; Louisiana',\n",
       "       'Reno city; Reno, NV Metro Area; Nevada',\n",
       "       'Paradise CDP; Las Vegas-Henderson-Paradise, NV Metro Area; Nevada',\n",
       "       'Scottsdale city; Phoenix-Mesa-Scottsdale, AZ Metro Area; Arizona',\n",
       "       'Irvine city; Los Angeles-Long Beach-Anaheim, CA Metro Area; California',\n",
       "       'Irving city; Dallas-Fort Worth-Arlington, TX Metro Area; Texas',\n",
       "       'Arlington CDP; Washington-Arlington-Alexandria, DC-VA-MD-WV Metro Area (part); Virginia',\n",
       "       'Birmingham city; Birmingham-Hoover, AL Metro Area; Alabama',\n",
       "       'San Bernardino city; Riverside-San Bernardino-Ontario, CA Metro Area; California',\n",
       "       'Rochester city; Rochester, NY Metro Area; New York',\n",
       "       'Boise City city; Boise City, ID Metro Area; Idaho',\n",
       "       'Spokane city; Spokane-Spokane Valley, WA Metro Area; Washington',\n",
       "       'Richmond city; Richmond, VA Metro Area; Virginia',\n",
       "       'Des Moines city; Des Moines-West Des Moines, IA Metro Area; Iowa',\n",
       "       'Montgomery city; Montgomery, AL Metro Area; Alabama',\n",
       "       'Modesto city; Modesto, CA Metro Area; California',\n",
       "       'Fayetteville city; Fayetteville, NC Metro Area; North Carolina',\n",
       "       'Tacoma city; Seattle-Tacoma-Bellevue, WA Metro Area; Washington',\n",
       "       'Shreveport city; Shreveport-Bossier City, LA Metro Area; Louisiana',\n",
       "       'Oxnard city; Oxnard-Thousand Oaks-Ventura, CA Metro Area; California',\n",
       "       'Akron city; Akron, OH Metro Area; Ohio',\n",
       "       'Augusta-Richmond County consolidated government (balance); Augusta-Richmond County, GA-SC Metro Area (part); Georgia',\n",
       "       'Mobile city; Mobile, AL Metro Area; Alabama',\n",
       "       'Little Rock city; Little Rock-North Little Rock-Conway, AR Metro Area; Arkansas',\n",
       "       'Columbus city; Columbus, GA-AL Metro Area (part); Georgia',\n",
       "       'Glendale city; Los Angeles-Long Beach-Anaheim, CA Metro Area; California',\n",
       "       'New York city; New York-Northern New Jersey-Long Island, NY-NJ-PA Metro Area (part); New York',\n",
       "       'Los Angeles city; Los Angeles-Long Beach-Santa Ana, CA Metro Area; California',\n",
       "       'Chicago city; Chicago-Joliet-Naperville, IL-IN-WI Metro Area (part); Illinois',\n",
       "       'Houston city; Houston-Sugar Land-Baytown, TX Metro Area; Texas',\n",
       "       'Phoenix city; Phoenix-Mesa-Glendale, AZ Metro Area; Arizona',\n",
       "       'San Diego city; San Diego-Carlsbad-San Marcos, CA Metro Area; California',\n",
       "       'Indianapolis city (balance); Indianapolis-Carmel, IN Metro Area; Indiana',\n",
       "       'San Francisco city; San Francisco-Oakland-Fremont, CA Metro Area; California',\n",
       "       'Austin city; Austin-Round Rock-San Marcos, TX Metro Area; Texas',\n",
       "       'Charlotte city; Charlotte-Gastonia-Rock Hill, NC-SC Metro Area (part); North Carolina',\n",
       "       'Detroit city; Detroit-Warren-Livonia, MI Metro Area; Michigan',\n",
       "       'Baltimore city; Baltimore-Towson, MD Metro Area; Maryland',\n",
       "       'Boston city; Boston-Cambridge-Quincy, MA-NH Metro Area (part); Massachusetts',\n",
       "       'Denver city; Denver-Aurora-Broomfield, CO Metro Area; Colorado',\n",
       "       'Las Vegas city; Las Vegas-Paradise, NV Metro Area; Nevada',\n",
       "       'Sacramento city; Sacramento--Arden-Arcade--Roseville, CA Metro Area; California',\n",
       "       'Long Beach city; Los Angeles-Long Beach-Santa Ana, CA Metro Area; California',\n",
       "       'Mesa city; Phoenix-Mesa-Glendale, AZ Metro Area; Arizona',\n",
       "       'Atlanta city; Atlanta-Sandy Springs-Marietta, GA Metro Area; Georgia',\n",
       "       'Raleigh city (part); Raleigh-Cary, NC Metro Area; North Carolina',\n",
       "       'Miami city; Miami-Fort Lauderdale-Pompano Beach, FL Metro Area; Florida',\n",
       "       'Cleveland city; Cleveland-Elyria-Mentor, OH Metro Area; Ohio',\n",
       "       'Oakland city; San Francisco-Oakland-Fremont, CA Metro Area; California',\n",
       "       'San Juan zona urbana; San Juan-Caguas-Guaynabo, PR Metro Area; Puerto Rico',\n",
       "       'Bakersfield city; Bakersfield-Delano, CA Metro Area; California',\n",
       "       'Urban Honolulu CDP; Honolulu, HI Metro Area; Hawaii',\n",
       "       'New Orleans city; New Orleans-Metairie-Kenner, LA Metro Area; Louisiana',\n",
       "       'Anaheim city; Los Angeles-Long Beach-Santa Ana, CA Metro Area; California',\n",
       "       'Santa Ana city; Los Angeles-Long Beach-Santa Ana, CA Metro Area; California',\n",
       "       'Aurora city; Denver-Aurora-Broomfield, CO Metro Area; Colorado',\n",
       "       'Cincinnati city; Cincinnati-Middletown, OH-KY-IN Metro Area (part); Ohio',\n",
       "       'Stockton city; Stockton, CA Metro Area; California',\n",
       "       'Newark city; New York-Northern New Jersey-Long Island, NY-NJ-PA Metro Area (part); New Jersey',\n",
       "       'Buffalo city; Buffalo-Niagara Falls, NY Metro Area; New York',\n",
       "       'Glendale city; Phoenix-Mesa-Glendale, AZ Metro Area; Arizona',\n",
       "       'Reno city; Reno-Sparks, NV Metro Area; Nevada',\n",
       "       'Paradise CDP; Las Vegas-Paradise, NV Metro Area; Nevada',\n",
       "       'Scottsdale city; Phoenix-Mesa-Glendale, AZ Metro Area; Arizona',\n",
       "       'Fremont city; San Francisco-Oakland-Fremont, CA Metro Area; California',\n",
       "       'Irvine city; Los Angeles-Long Beach-Santa Ana, CA Metro Area; California',\n",
       "       'Spokane city; Spokane, WA Metro Area; Washington',\n",
       "       'Boise City city; Boise City-Nampa, ID Metro Area; Idaho',\n",
       "       'Glendale city; Los Angeles-Long Beach-Santa Ana, CA Metro Area; California',\n",
       "       'Grand Rapids city; Grand Rapids-Wyoming, MI Metro Area; Michigan',\n",
       "       'Amarillo city; Amarillo, TX Metro Area; Texas',\n",
       "       'Chicago city; Chicago-Naperville-Joliet, IL-IN-WI Metro Area (part); Illinois',\n",
       "       'San Antonio city; San Antonio, TX Metro Area; Texas',\n",
       "       'Charlotte city; Charlotte-Gastonia-Concord, NC-SC Metro Area (part); North Carolina',\n",
       "       'Louisville/Jefferson County metro government (balance); Louisville-Jefferson County, KY-IN Metro Area (part); Kentucky',\n",
       "       'Portland city; Portland-Vancouver-Beaverton, OR-WA Metro Area (part); Oregon',\n",
       "       'Honolulu CDP; Honolulu, HI Metro Area; Hawaii',\n",
       "       'Orlando city; Orlando-Kissimmee, FL Metro Area; Florida',\n",
       "       'Newport News city; Virginia Beach-Norfolk-Newport News, VA-NC Metro Area (part); Virginia'], dtype=object)"
      ]
     },
     "execution_count": 42,
     "metadata": {},
     "output_type": "execute_result"
    }
   ],
   "source": [
    "cities['Name of Area'].unique()"
   ]
  },
  {
   "cell_type": "markdown",
   "metadata": {},
   "source": [
    "Because of how the city names are displayed in this dataset (i.e., differently from the way it is in the Housing Orgs dataframe), I had to create a function that would create a new column. I needed city names without \"city\" or \"municipality\" or punctuation. There were a few other issues. \n",
    "\n",
    "We need to use the `apply` command to use the function on all cells in the Name of Area column."
   ]
  },
  {
   "cell_type": "code",
   "execution_count": 49,
   "metadata": {
    "collapsed": true
   },
   "outputs": [],
   "source": [
    "def city(text):\n",
    "    split_text = text.split(';')\n",
    "    words = split_text[0].split(' ')\n",
    "    if words[1] == 'municipality' or words[1] == 'city':\n",
    "        new_city = words[0].lower()\n",
    "    else:\n",
    "        new_city = words[0].lower() + ' ' + words[1].lower()\n",
    "    test_lower = new_city.replace('.', '')\n",
    "    if test_lower == 'urban honolulu':\n",
    "        honolulu = test_lower.replace('urban ', '')\n",
    "        return honolulu\n",
    "    if test_lower == 'boise city':\n",
    "        boise = test_lower.replace(' city', '')\n",
    "        return boise\n",
    "    if test_lower == 'louisville/jefferson county':\n",
    "        louisville = test_lower.replace('/jefferson county', '')\n",
    "        return louisville\n",
    "    if test_lower == 'lexington-fayette urban':\n",
    "        lexington = test_lower.replace('-fayette urban', '')\n",
    "        return lexington\n",
    "    if test_lower == 'nashville-davidson metropolitan':\n",
    "        nashville = test_lower.replace('-davidson metropolitan', '')\n",
    "        return nashville\n",
    "    if test_lower == 'arlington cdp':\n",
    "        arlington = test_lower.replace(' cdp', '')\n",
    "        return arlington\n",
    "    if test_lower == 'paradise cdp':\n",
    "        paradise = test_lower.replace(' cdp', '')\n",
    "        return paradise\n",
    "    if test_lower == 'honolulu cdp':\n",
    "        honolulu2 = test_lower.replace(' cdp', '')\n",
    "        return honolulu2\n",
    "    if test_lower == 'augusta-richmond county':\n",
    "        augusta = test_lower.replace('-richmond county', '')\n",
    "        return augusta\n",
    "    return test_lower\n",
    "\n",
    "cities['City Name'] = cities['Name of Area'].apply(city)"
   ]
  },
  {
   "cell_type": "code",
   "execution_count": 50,
   "metadata": {
    "collapsed": false
   },
   "outputs": [
    {
     "data": {
      "text/plain": [
       "0            new york\n",
       "1         los angeles\n",
       "2             chicago\n",
       "3             houston\n",
       "4        philadelphia\n",
       "5             phoenix\n",
       "6         san antonio\n",
       "7           san diego\n",
       "8              dallas\n",
       "9            san jose\n",
       "10             austin\n",
       "11       jacksonville\n",
       "12       indianapolis\n",
       "13      san francisco\n",
       "14           columbus\n",
       "15         fort worth\n",
       "16          charlotte\n",
       "17            detroit\n",
       "18            el paso\n",
       "19            memphis\n",
       "20             boston\n",
       "21            seattle\n",
       "22          baltimore\n",
       "23         washington\n",
       "24             denver\n",
       "25          nashville\n",
       "26         louisville\n",
       "27          milwaukee\n",
       "28           portland\n",
       "29          las vegas\n",
       "            ...      \n",
       "523       baton rouge\n",
       "524     winston-salem\n",
       "525           lubbock\n",
       "526            durham\n",
       "527            laredo\n",
       "528              reno\n",
       "529             akron\n",
       "530         rochester\n",
       "531         arlington\n",
       "532             boise\n",
       "533           modesto\n",
       "534        montgomery\n",
       "535          paradise\n",
       "536          richmond\n",
       "537           fremont\n",
       "538           spokane\n",
       "539        shreveport\n",
       "540    san bernardino\n",
       "541            irving\n",
       "542            irvine\n",
       "543        des moines\n",
       "544            tacoma\n",
       "545          glendale\n",
       "546      fayetteville\n",
       "547      grand rapids\n",
       "548           augusta\n",
       "549      newport news\n",
       "550            mobile\n",
       "551          columbus\n",
       "552       little rock\n",
       "Name: City Name, dtype: object"
      ]
     },
     "execution_count": 50,
     "metadata": {},
     "output_type": "execute_result"
    }
   ],
   "source": [
    "cities['City Name']"
   ]
  },
  {
   "cell_type": "markdown",
   "metadata": {},
   "source": [
    "The list above looks pretty good."
   ]
  },
  {
   "cell_type": "markdown",
   "metadata": {},
   "source": [
    "There were about 35-40k orgs per year in the U.S. But because I want to restrict my analysis to cities (and I arbitrarily chose a little over 100), I'd like to just keep the orgs in those cities in my dataset. So, I can use the `merge` function in pandas.\n",
    "\n",
    "There are different choices you need to make - mostly which columns from each df to merge on and whether to keep observations where there is no match. In this case, I just want to keep orgs in the cities in the second dataframe. So, in the `how` option, I chose `inner` (rather than `outer` or another option). "
   ]
  },
  {
   "cell_type": "code",
   "execution_count": 51,
   "metadata": {
    "collapsed": false
   },
   "outputs": [],
   "source": [
    "housing_orgs_cities_5yrs = pd.merge(housing_orgs_5yrs, cities, on=None, left_on=['city_lower', 'state_lower', 'year'], right_on=['City Name', 'State/U.S.-Abbreviation (USPS)', 'Year'], how='inner')"
   ]
  },
  {
   "cell_type": "code",
   "execution_count": 52,
   "metadata": {
    "collapsed": false
   },
   "outputs": [
    {
     "data": {
      "text/plain": [
       "2010    13758\n",
       "2009    13655\n",
       "2011    11387\n",
       "2012    11029\n",
       "2013    10634\n",
       "dtype: int64"
      ]
     },
     "execution_count": 52,
     "metadata": {},
     "output_type": "execute_result"
    }
   ],
   "source": [
    "housing_orgs_cities_5yrs.year.value_counts()"
   ]
  },
  {
   "cell_type": "markdown",
   "metadata": {},
   "source": [
    "We now have between 10-14k orgs per year."
   ]
  },
  {
   "cell_type": "markdown",
   "metadata": {},
   "source": [
    "###Add Dependent Variables"
   ]
  },
  {
   "cell_type": "markdown",
   "metadata": {},
   "source": [
    "These data come from HUD, but were compiled by the [Center for Budget and Policy Priorities](www.cbpp.org).\n",
    "\n",
    "I made some slight modifications in Excel (amateur!) before importing."
   ]
  },
  {
   "cell_type": "code",
   "execution_count": 53,
   "metadata": {
    "collapsed": true
   },
   "outputs": [],
   "source": [
    "vouchers_path = r'C:\\Users\\Akram Al-Turk\\Box Sync\\MA data\\vouchers_cities_2004_2013_edited.csv'\n",
    "vouchers = pd.read_csv(vouchers_path)"
   ]
  },
  {
   "cell_type": "code",
   "execution_count": 54,
   "metadata": {
    "collapsed": false
   },
   "outputs": [
    {
     "data": {
      "text/html": [
       "<div>\n",
       "<table border=\"1\" class=\"dataframe\">\n",
       "  <thead>\n",
       "    <tr style=\"text-align: right;\">\n",
       "      <th></th>\n",
       "      <th>city</th>\n",
       "      <th>note</th>\n",
       "      <th>agency_code</th>\n",
       "      <th>U2004</th>\n",
       "      <th>U2005</th>\n",
       "      <th>U2006</th>\n",
       "      <th>U2007</th>\n",
       "      <th>U2008</th>\n",
       "      <th>HAP2008</th>\n",
       "      <th>U2009</th>\n",
       "      <th>HAP2009</th>\n",
       "      <th>U2010</th>\n",
       "      <th>HAP2010</th>\n",
       "      <th>U2011</th>\n",
       "      <th>HAP2011</th>\n",
       "      <th>U2012</th>\n",
       "      <th>HAP2012</th>\n",
       "      <th>U2013</th>\n",
       "      <th>HAP2013</th>\n",
       "    </tr>\n",
       "  </thead>\n",
       "  <tbody>\n",
       "    <tr>\n",
       "      <th>0</th>\n",
       "      <td>Birmingham</td>\n",
       "      <td>NaN</td>\n",
       "      <td>AL001</td>\n",
       "      <td>102%</td>\n",
       "      <td>83%</td>\n",
       "      <td>84%</td>\n",
       "      <td>80%</td>\n",
       "      <td>79%</td>\n",
       "      <td>$24,155,820</td>\n",
       "      <td>92%</td>\n",
       "      <td>$29,902,364</td>\n",
       "      <td>86%</td>\n",
       "      <td>$30,080,720</td>\n",
       "      <td>87%</td>\n",
       "      <td>$32,105,898</td>\n",
       "      <td>90%</td>\n",
       "      <td>$32,636,067</td>\n",
       "      <td>90%</td>\n",
       "      <td>$32,470,367</td>\n",
       "    </tr>\n",
       "    <tr>\n",
       "      <th>1</th>\n",
       "      <td>Mobile</td>\n",
       "      <td>NaN</td>\n",
       "      <td>AL002</td>\n",
       "      <td>94%</td>\n",
       "      <td>90%</td>\n",
       "      <td>82%</td>\n",
       "      <td>85%</td>\n",
       "      <td>92%</td>\n",
       "      <td>$18,294,982</td>\n",
       "      <td>87%</td>\n",
       "      <td>$19,055,258</td>\n",
       "      <td>76%</td>\n",
       "      <td>$20,685,476</td>\n",
       "      <td>82%</td>\n",
       "      <td>$23,199,272</td>\n",
       "      <td>77%</td>\n",
       "      <td>$21,716,235</td>\n",
       "      <td>79%</td>\n",
       "      <td>$23,441,527</td>\n",
       "    </tr>\n",
       "    <tr>\n",
       "      <th>2</th>\n",
       "      <td>Montgomery</td>\n",
       "      <td>NaN</td>\n",
       "      <td>AL006</td>\n",
       "      <td>83%</td>\n",
       "      <td>79%</td>\n",
       "      <td>64%</td>\n",
       "      <td>66%</td>\n",
       "      <td>68%</td>\n",
       "      <td>$8,744,545</td>\n",
       "      <td>86%</td>\n",
       "      <td>$13,193,617</td>\n",
       "      <td>86%</td>\n",
       "      <td>$13,746,935</td>\n",
       "      <td>100%</td>\n",
       "      <td>$17,016,581</td>\n",
       "      <td>98%</td>\n",
       "      <td>$17,284,508</td>\n",
       "      <td>99%</td>\n",
       "      <td>$17,758,663</td>\n",
       "    </tr>\n",
       "    <tr>\n",
       "      <th>3</th>\n",
       "      <td>Little Rock</td>\n",
       "      <td>NaN</td>\n",
       "      <td>AR004</td>\n",
       "      <td>94%</td>\n",
       "      <td>86%</td>\n",
       "      <td>86%</td>\n",
       "      <td>91%</td>\n",
       "      <td>91%</td>\n",
       "      <td>$10,730,155</td>\n",
       "      <td>94%</td>\n",
       "      <td>$10,898,721</td>\n",
       "      <td>93%</td>\n",
       "      <td>$10,828,313</td>\n",
       "      <td>85%</td>\n",
       "      <td>$9,745,240</td>\n",
       "      <td>91%</td>\n",
       "      <td>$10,587,980</td>\n",
       "      <td>87%</td>\n",
       "      <td>$10,494,708</td>\n",
       "    </tr>\n",
       "    <tr>\n",
       "      <th>4</th>\n",
       "      <td>Glendale</td>\n",
       "      <td>NaN</td>\n",
       "      <td>AZ003</td>\n",
       "      <td>97%</td>\n",
       "      <td>95%</td>\n",
       "      <td>93%</td>\n",
       "      <td>92%</td>\n",
       "      <td>99%</td>\n",
       "      <td>$7,551,523</td>\n",
       "      <td>97%</td>\n",
       "      <td>$7,905,111</td>\n",
       "      <td>94%</td>\n",
       "      <td>$7,771,373</td>\n",
       "      <td>99%</td>\n",
       "      <td>$8,045,099</td>\n",
       "      <td>99%</td>\n",
       "      <td>$7,913,603</td>\n",
       "      <td>99%</td>\n",
       "      <td>$7,799,382</td>\n",
       "    </tr>\n",
       "  </tbody>\n",
       "</table>\n",
       "</div>"
      ],
      "text/plain": [
       "          city note agency_code U2004 U2005 U2006 U2007 U2008      HAP2008 U2009      HAP2009 U2010      HAP2010 U2011      HAP2011 U2012      HAP2012 U2013      HAP2013\n",
       "0   Birmingham  NaN       AL001  102%   83%   84%   80%   79%  $24,155,820   92%  $29,902,364   86%  $30,080,720   87%  $32,105,898   90%  $32,636,067   90%  $32,470,367\n",
       "1       Mobile  NaN       AL002   94%   90%   82%   85%   92%  $18,294,982   87%  $19,055,258   76%  $20,685,476   82%  $23,199,272   77%  $21,716,235   79%  $23,441,527\n",
       "2   Montgomery  NaN       AL006   83%   79%   64%   66%   68%   $8,744,545   86%  $13,193,617   86%  $13,746,935  100%  $17,016,581   98%  $17,284,508   99%  $17,758,663\n",
       "3  Little Rock  NaN       AR004   94%   86%   86%   91%   91%  $10,730,155   94%  $10,898,721   93%  $10,828,313   85%   $9,745,240   91%  $10,587,980   87%  $10,494,708\n",
       "4     Glendale  NaN       AZ003   97%   95%   93%   92%   99%   $7,551,523   97%   $7,905,111   94%   $7,771,373   99%   $8,045,099   99%   $7,913,603   99%   $7,799,382"
      ]
     },
     "execution_count": 54,
     "metadata": {},
     "output_type": "execute_result"
    }
   ],
   "source": [
    "vouchers.head()"
   ]
  },
  {
   "cell_type": "markdown",
   "metadata": {},
   "source": [
    "The data are in wide format, and columns that start with a `U` denote housing voucher usage for that year. To import these data into our master dataframe, I need to convert the voucher dataset to long format."
   ]
  },
  {
   "cell_type": "code",
   "execution_count": 55,
   "metadata": {
    "collapsed": true
   },
   "outputs": [],
   "source": [
    "vouchers['id'] = vouchers.index"
   ]
  },
  {
   "cell_type": "code",
   "execution_count": 56,
   "metadata": {
    "collapsed": false
   },
   "outputs": [
    {
     "data": {
      "text/plain": [
       "(104, 20)"
      ]
     },
     "execution_count": 56,
     "metadata": {},
     "output_type": "execute_result"
    }
   ],
   "source": [
    "vouchers.shape"
   ]
  },
  {
   "cell_type": "code",
   "execution_count": 57,
   "metadata": {
    "collapsed": true
   },
   "outputs": [],
   "source": [
    "vouchers_long = pd.wide_to_long(vouchers, [\"U\", \"HAP\"], i=\"id\", j=\"year\")"
   ]
  },
  {
   "cell_type": "code",
   "execution_count": 58,
   "metadata": {
    "collapsed": false
   },
   "outputs": [
    {
     "data": {
      "text/plain": [
       "(1040, 5)"
      ]
     },
     "execution_count": 58,
     "metadata": {},
     "output_type": "execute_result"
    }
   ],
   "source": [
    "vouchers_long.shape"
   ]
  },
  {
   "cell_type": "markdown",
   "metadata": {},
   "source": [
    "We went from 104 to 1040 observations."
   ]
  },
  {
   "cell_type": "code",
   "execution_count": 62,
   "metadata": {
    "collapsed": false
   },
   "outputs": [
    {
     "data": {
      "text/html": [
       "<div>\n",
       "<table border=\"1\" class=\"dataframe\">\n",
       "  <thead>\n",
       "    <tr style=\"text-align: right;\">\n",
       "      <th></th>\n",
       "      <th></th>\n",
       "      <th>city</th>\n",
       "      <th>note</th>\n",
       "      <th>agency_code</th>\n",
       "      <th>U</th>\n",
       "      <th>HAP</th>\n",
       "    </tr>\n",
       "    <tr>\n",
       "      <th>id</th>\n",
       "      <th>year</th>\n",
       "      <th></th>\n",
       "      <th></th>\n",
       "      <th></th>\n",
       "      <th></th>\n",
       "      <th></th>\n",
       "    </tr>\n",
       "  </thead>\n",
       "  <tbody>\n",
       "    <tr>\n",
       "      <th>0</th>\n",
       "      <th>2004</th>\n",
       "      <td>Birmingham</td>\n",
       "      <td>NaN</td>\n",
       "      <td>AL001</td>\n",
       "      <td>102%</td>\n",
       "      <td>NaN</td>\n",
       "    </tr>\n",
       "    <tr>\n",
       "      <th>1</th>\n",
       "      <th>2004</th>\n",
       "      <td>Mobile</td>\n",
       "      <td>NaN</td>\n",
       "      <td>AL002</td>\n",
       "      <td>94%</td>\n",
       "      <td>NaN</td>\n",
       "    </tr>\n",
       "    <tr>\n",
       "      <th>2</th>\n",
       "      <th>2004</th>\n",
       "      <td>Montgomery</td>\n",
       "      <td>NaN</td>\n",
       "      <td>AL006</td>\n",
       "      <td>83%</td>\n",
       "      <td>NaN</td>\n",
       "    </tr>\n",
       "    <tr>\n",
       "      <th>3</th>\n",
       "      <th>2004</th>\n",
       "      <td>Little Rock</td>\n",
       "      <td>NaN</td>\n",
       "      <td>AR004</td>\n",
       "      <td>94%</td>\n",
       "      <td>NaN</td>\n",
       "    </tr>\n",
       "    <tr>\n",
       "      <th>4</th>\n",
       "      <th>2004</th>\n",
       "      <td>Glendale</td>\n",
       "      <td>NaN</td>\n",
       "      <td>AZ003</td>\n",
       "      <td>97%</td>\n",
       "      <td>NaN</td>\n",
       "    </tr>\n",
       "  </tbody>\n",
       "</table>\n",
       "</div>"
      ],
      "text/plain": [
       "                city note agency_code     U  HAP\n",
       "id year                                         \n",
       "0  2004   Birmingham  NaN       AL001  102%  NaN\n",
       "1  2004       Mobile  NaN       AL002   94%  NaN\n",
       "2  2004   Montgomery  NaN       AL006   83%  NaN\n",
       "3  2004  Little Rock  NaN       AR004   94%  NaN\n",
       "4  2004     Glendale  NaN       AZ003   97%  NaN"
      ]
     },
     "execution_count": 62,
     "metadata": {},
     "output_type": "execute_result"
    }
   ],
   "source": [
    "vouchers_long.head()"
   ]
  },
  {
   "cell_type": "markdown",
   "metadata": {},
   "source": [
    "Need to add some columns to make the data merge-able."
   ]
  },
  {
   "cell_type": "code",
   "execution_count": 63,
   "metadata": {
    "collapsed": false
   },
   "outputs": [],
   "source": [
    "#get state abbreviation from agency code column\n",
    "# strip out percent sign\n",
    "\n",
    "vouchers_long['state'] = vouchers_long['agency_code'].str[:2].str.lower()\n",
    "vouchers_long['city_lower'] = vouchers_long['city'].str.lower()\n",
    "vouchers_long['voucher_use'] = vouchers_long.U.str[:-1]\n",
    "vouchers_long['voucher_payments'] = vouchers_long.HAP.str[1:]\n",
    "vouchers_long['voucher_payments'] = vouchers_long['voucher_payments'].str.replace(',', '')"
   ]
  },
  {
   "cell_type": "code",
   "execution_count": 64,
   "metadata": {
    "collapsed": false
   },
   "outputs": [
    {
     "data": {
      "text/html": [
       "<div>\n",
       "<table border=\"1\" class=\"dataframe\">\n",
       "  <thead>\n",
       "    <tr style=\"text-align: right;\">\n",
       "      <th></th>\n",
       "      <th></th>\n",
       "      <th>city</th>\n",
       "      <th>note</th>\n",
       "      <th>agency_code</th>\n",
       "      <th>U</th>\n",
       "      <th>HAP</th>\n",
       "      <th>state</th>\n",
       "      <th>city_lower</th>\n",
       "      <th>voucher_use</th>\n",
       "      <th>voucher_payments</th>\n",
       "    </tr>\n",
       "    <tr>\n",
       "      <th>id</th>\n",
       "      <th>year</th>\n",
       "      <th></th>\n",
       "      <th></th>\n",
       "      <th></th>\n",
       "      <th></th>\n",
       "      <th></th>\n",
       "      <th></th>\n",
       "      <th></th>\n",
       "      <th></th>\n",
       "      <th></th>\n",
       "    </tr>\n",
       "  </thead>\n",
       "  <tbody>\n",
       "    <tr>\n",
       "      <th>0</th>\n",
       "      <th>2004</th>\n",
       "      <td>Birmingham</td>\n",
       "      <td>NaN</td>\n",
       "      <td>AL001</td>\n",
       "      <td>102%</td>\n",
       "      <td>NaN</td>\n",
       "      <td>al</td>\n",
       "      <td>birmingham</td>\n",
       "      <td>102</td>\n",
       "      <td>NaN</td>\n",
       "    </tr>\n",
       "    <tr>\n",
       "      <th>1</th>\n",
       "      <th>2004</th>\n",
       "      <td>Mobile</td>\n",
       "      <td>NaN</td>\n",
       "      <td>AL002</td>\n",
       "      <td>94%</td>\n",
       "      <td>NaN</td>\n",
       "      <td>al</td>\n",
       "      <td>mobile</td>\n",
       "      <td>94</td>\n",
       "      <td>NaN</td>\n",
       "    </tr>\n",
       "    <tr>\n",
       "      <th>2</th>\n",
       "      <th>2004</th>\n",
       "      <td>Montgomery</td>\n",
       "      <td>NaN</td>\n",
       "      <td>AL006</td>\n",
       "      <td>83%</td>\n",
       "      <td>NaN</td>\n",
       "      <td>al</td>\n",
       "      <td>montgomery</td>\n",
       "      <td>83</td>\n",
       "      <td>NaN</td>\n",
       "    </tr>\n",
       "    <tr>\n",
       "      <th>3</th>\n",
       "      <th>2004</th>\n",
       "      <td>Little Rock</td>\n",
       "      <td>NaN</td>\n",
       "      <td>AR004</td>\n",
       "      <td>94%</td>\n",
       "      <td>NaN</td>\n",
       "      <td>ar</td>\n",
       "      <td>little rock</td>\n",
       "      <td>94</td>\n",
       "      <td>NaN</td>\n",
       "    </tr>\n",
       "    <tr>\n",
       "      <th>4</th>\n",
       "      <th>2004</th>\n",
       "      <td>Glendale</td>\n",
       "      <td>NaN</td>\n",
       "      <td>AZ003</td>\n",
       "      <td>97%</td>\n",
       "      <td>NaN</td>\n",
       "      <td>az</td>\n",
       "      <td>glendale</td>\n",
       "      <td>97</td>\n",
       "      <td>NaN</td>\n",
       "    </tr>\n",
       "  </tbody>\n",
       "</table>\n",
       "</div>"
      ],
      "text/plain": [
       "                city note agency_code     U  HAP state   city_lower voucher_use voucher_payments\n",
       "id year                                                                                         \n",
       "0  2004   Birmingham  NaN       AL001  102%  NaN    al   birmingham         102              NaN\n",
       "1  2004       Mobile  NaN       AL002   94%  NaN    al       mobile          94              NaN\n",
       "2  2004   Montgomery  NaN       AL006   83%  NaN    al   montgomery          83              NaN\n",
       "3  2004  Little Rock  NaN       AR004   94%  NaN    ar  little rock          94              NaN\n",
       "4  2004     Glendale  NaN       AZ003   97%  NaN    az     glendale          97              NaN"
      ]
     },
     "execution_count": 64,
     "metadata": {},
     "output_type": "execute_result"
    }
   ],
   "source": [
    "vouchers_long.head()"
   ]
  },
  {
   "cell_type": "code",
   "execution_count": 65,
   "metadata": {
    "collapsed": false
   },
   "outputs": [],
   "source": [
    "vouchers_long = vouchers_long.reset_index()"
   ]
  },
  {
   "cell_type": "code",
   "execution_count": 66,
   "metadata": {
    "collapsed": false
   },
   "outputs": [
    {
     "data": {
      "text/html": [
       "<div>\n",
       "<table border=\"1\" class=\"dataframe\">\n",
       "  <thead>\n",
       "    <tr style=\"text-align: right;\">\n",
       "      <th></th>\n",
       "      <th>id</th>\n",
       "      <th>year</th>\n",
       "      <th>city</th>\n",
       "      <th>note</th>\n",
       "      <th>agency_code</th>\n",
       "      <th>U</th>\n",
       "      <th>HAP</th>\n",
       "      <th>state</th>\n",
       "      <th>city_lower</th>\n",
       "      <th>voucher_use</th>\n",
       "      <th>voucher_payments</th>\n",
       "    </tr>\n",
       "  </thead>\n",
       "  <tbody>\n",
       "    <tr>\n",
       "      <th>0</th>\n",
       "      <td>0</td>\n",
       "      <td>2004</td>\n",
       "      <td>Birmingham</td>\n",
       "      <td>NaN</td>\n",
       "      <td>AL001</td>\n",
       "      <td>102%</td>\n",
       "      <td>NaN</td>\n",
       "      <td>al</td>\n",
       "      <td>birmingham</td>\n",
       "      <td>102</td>\n",
       "      <td>NaN</td>\n",
       "    </tr>\n",
       "    <tr>\n",
       "      <th>1</th>\n",
       "      <td>1</td>\n",
       "      <td>2004</td>\n",
       "      <td>Mobile</td>\n",
       "      <td>NaN</td>\n",
       "      <td>AL002</td>\n",
       "      <td>94%</td>\n",
       "      <td>NaN</td>\n",
       "      <td>al</td>\n",
       "      <td>mobile</td>\n",
       "      <td>94</td>\n",
       "      <td>NaN</td>\n",
       "    </tr>\n",
       "    <tr>\n",
       "      <th>2</th>\n",
       "      <td>2</td>\n",
       "      <td>2004</td>\n",
       "      <td>Montgomery</td>\n",
       "      <td>NaN</td>\n",
       "      <td>AL006</td>\n",
       "      <td>83%</td>\n",
       "      <td>NaN</td>\n",
       "      <td>al</td>\n",
       "      <td>montgomery</td>\n",
       "      <td>83</td>\n",
       "      <td>NaN</td>\n",
       "    </tr>\n",
       "    <tr>\n",
       "      <th>3</th>\n",
       "      <td>3</td>\n",
       "      <td>2004</td>\n",
       "      <td>Little Rock</td>\n",
       "      <td>NaN</td>\n",
       "      <td>AR004</td>\n",
       "      <td>94%</td>\n",
       "      <td>NaN</td>\n",
       "      <td>ar</td>\n",
       "      <td>little rock</td>\n",
       "      <td>94</td>\n",
       "      <td>NaN</td>\n",
       "    </tr>\n",
       "    <tr>\n",
       "      <th>4</th>\n",
       "      <td>4</td>\n",
       "      <td>2004</td>\n",
       "      <td>Glendale</td>\n",
       "      <td>NaN</td>\n",
       "      <td>AZ003</td>\n",
       "      <td>97%</td>\n",
       "      <td>NaN</td>\n",
       "      <td>az</td>\n",
       "      <td>glendale</td>\n",
       "      <td>97</td>\n",
       "      <td>NaN</td>\n",
       "    </tr>\n",
       "  </tbody>\n",
       "</table>\n",
       "</div>"
      ],
      "text/plain": [
       "   id  year         city note agency_code     U  HAP state   city_lower voucher_use voucher_payments\n",
       "0   0  2004   Birmingham  NaN       AL001  102%  NaN    al   birmingham         102              NaN\n",
       "1   1  2004       Mobile  NaN       AL002   94%  NaN    al       mobile          94              NaN\n",
       "2   2  2004   Montgomery  NaN       AL006   83%  NaN    al   montgomery          83              NaN\n",
       "3   3  2004  Little Rock  NaN       AR004   94%  NaN    ar  little rock          94              NaN\n",
       "4   4  2004     Glendale  NaN       AZ003   97%  NaN    az     glendale          97              NaN"
      ]
     },
     "execution_count": 66,
     "metadata": {},
     "output_type": "execute_result"
    }
   ],
   "source": [
    "vouchers_long.head()"
   ]
  },
  {
   "cell_type": "markdown",
   "metadata": {},
   "source": [
    "I don't have voucher information on all the cities in my dataframe, but I don't want to delete those cities out (in case I have other useful data later on those cities). \n",
    "\n",
    "Because of that, I use `outer` option for `how`."
   ]
  },
  {
   "cell_type": "code",
   "execution_count": 67,
   "metadata": {
    "collapsed": false
   },
   "outputs": [],
   "source": [
    "orgs_vouchers = pd.merge(housing_orgs_cities_5yrs, vouchers_long, on=None, left_on=['city_lower', 'State/U.S.-Abbreviation (USPS)', 'year'], right_on=['city_lower', 'state', 'year'], how='outer')"
   ]
  },
  {
   "cell_type": "markdown",
   "metadata": {},
   "source": [
    "###Another DV (low-income housing units)"
   ]
  },
  {
   "cell_type": "markdown",
   "metadata": {},
   "source": [
    "These data also come from HUD."
   ]
  },
  {
   "cell_type": "code",
   "execution_count": 68,
   "metadata": {
    "collapsed": true
   },
   "outputs": [],
   "source": [
    "lihtc_path = r'C:\\Users\\Akram Al-Turk\\Box Sync\\MA data\\lihtc_2009_2013.csv'\n",
    "lihtc = pd.read_csv(lihtc_path)"
   ]
  },
  {
   "cell_type": "code",
   "execution_count": 77,
   "metadata": {
    "collapsed": false
   },
   "outputs": [
    {
     "data": {
      "text/plain": [
       "0    200065\n",
       "1    200650\n",
       "2    200760\n",
       "3    200870\n",
       "4    201090\n",
       "Name: code, dtype: int64"
      ]
     },
     "execution_count": 77,
     "metadata": {},
     "output_type": "execute_result"
    }
   ],
   "source": [
    "lihtc['code'].head()"
   ]
  },
  {
   "cell_type": "code",
   "execution_count": 70,
   "metadata": {
    "collapsed": false
   },
   "outputs": [
    {
     "data": {
      "text/plain": [
       "104688"
      ]
     },
     "execution_count": 70,
     "metadata": {},
     "output_type": "execute_result"
    }
   ],
   "source": [
    "lihtc['total_units'].isnull().sum()"
   ]
  },
  {
   "cell_type": "code",
   "execution_count": 71,
   "metadata": {
    "collapsed": false
   },
   "outputs": [
    {
     "data": {
      "text/html": [
       "<div>\n",
       "<table border=\"1\" class=\"dataframe\">\n",
       "  <thead>\n",
       "    <tr style=\"text-align: right;\">\n",
       "      <th></th>\n",
       "      <th>city_lower</th>\n",
       "      <th>State/U.S.-Abbreviation (USPS)</th>\n",
       "      <th>Place (State FIPS + Place FIPS)</th>\n",
       "    </tr>\n",
       "  </thead>\n",
       "  <tbody>\n",
       "    <tr>\n",
       "      <th>0</th>\n",
       "      <td>boston</td>\n",
       "      <td>ma</td>\n",
       "      <td>2507000</td>\n",
       "    </tr>\n",
       "    <tr>\n",
       "      <th>1</th>\n",
       "      <td>boston</td>\n",
       "      <td>ma</td>\n",
       "      <td>2507000</td>\n",
       "    </tr>\n",
       "    <tr>\n",
       "      <th>2</th>\n",
       "      <td>boston</td>\n",
       "      <td>ma</td>\n",
       "      <td>2507000</td>\n",
       "    </tr>\n",
       "    <tr>\n",
       "      <th>3</th>\n",
       "      <td>boston</td>\n",
       "      <td>ma</td>\n",
       "      <td>2507000</td>\n",
       "    </tr>\n",
       "    <tr>\n",
       "      <th>4</th>\n",
       "      <td>boston</td>\n",
       "      <td>ma</td>\n",
       "      <td>2507000</td>\n",
       "    </tr>\n",
       "  </tbody>\n",
       "</table>\n",
       "</div>"
      ],
      "text/plain": [
       "  city_lower State/U.S.-Abbreviation (USPS)  Place (State FIPS + Place FIPS)\n",
       "0     boston                             ma                          2507000\n",
       "1     boston                             ma                          2507000\n",
       "2     boston                             ma                          2507000\n",
       "3     boston                             ma                          2507000\n",
       "4     boston                             ma                          2507000"
      ]
     },
     "execution_count": 71,
     "metadata": {},
     "output_type": "execute_result"
    }
   ],
   "source": [
    "orgs_vouchers[['city_lower', 'State/U.S.-Abbreviation (USPS)', 'Place (State FIPS + Place FIPS)']].head()"
   ]
  },
  {
   "cell_type": "code",
   "execution_count": 74,
   "metadata": {
    "collapsed": true
   },
   "outputs": [],
   "source": [
    "orgs_vouchers_lihtc_5yrs = pd.merge(orgs_vouchers, lihtc, on=None, left_on=['Place (State FIPS + Place FIPS)', 'year'], right_on=['code', 'year'], how='inner')"
   ]
  },
  {
   "cell_type": "code",
   "execution_count": 75,
   "metadata": {
    "collapsed": false
   },
   "outputs": [
    {
     "data": {
      "text/plain": [
       "(60186, 169)"
      ]
     },
     "execution_count": 75,
     "metadata": {},
     "output_type": "execute_result"
    }
   ],
   "source": [
    "orgs_vouchers_lihtc_5yrs.shape"
   ]
  },
  {
   "cell_type": "markdown",
   "metadata": {},
   "source": [
    "###Add GDP Data"
   ]
  },
  {
   "cell_type": "code",
   "execution_count": 78,
   "metadata": {
    "collapsed": false
   },
   "outputs": [
    {
     "name": "stderr",
     "output_type": "stream",
     "text": [
      "C:\\Users\\Akram Al-Turk\\Anaconda\\lib\\site-packages\\pandas\\io\\parsers.py:1170: DtypeWarning: Columns (0,2,3,5) have mixed types. Specify dtype option on import or set low_memory=False.\n",
      "  data = self._reader.read(nrows)\n"
     ]
    }
   ],
   "source": [
    "gdp_path = r'C:\\Users\\Akram Al-Turk\\Box Sync\\MA data\\GDPMetro\\allgmp.csv'\n",
    "gdp_metro = pd.read_csv(gdp_path)"
   ]
  },
  {
   "cell_type": "code",
   "execution_count": 79,
   "metadata": {
    "collapsed": false
   },
   "outputs": [
    {
     "data": {
      "text/plain": [
       "(99714, 21)"
      ]
     },
     "execution_count": 79,
     "metadata": {},
     "output_type": "execute_result"
    }
   ],
   "source": [
    "gdp_metro.shape"
   ]
  },
  {
   "cell_type": "code",
   "execution_count": 80,
   "metadata": {
    "collapsed": false
   },
   "outputs": [
    {
     "data": {
      "text/html": [
       "<div>\n",
       "<table border=\"1\" class=\"dataframe\">\n",
       "  <thead>\n",
       "    <tr style=\"text-align: right;\">\n",
       "      <th></th>\n",
       "      <th>GeoFIPS</th>\n",
       "      <th>GeoName</th>\n",
       "      <th>Region</th>\n",
       "      <th>ComponentId</th>\n",
       "      <th>ComponentName</th>\n",
       "      <th>IndustryId</th>\n",
       "      <th>IndustryClassification</th>\n",
       "      <th>Description</th>\n",
       "      <th>2001</th>\n",
       "      <th>2002</th>\n",
       "      <th>2003</th>\n",
       "      <th>2004</th>\n",
       "      <th>2005</th>\n",
       "      <th>2006</th>\n",
       "      <th>2007</th>\n",
       "      <th>2008</th>\n",
       "      <th>2009</th>\n",
       "      <th>2010</th>\n",
       "      <th>2011</th>\n",
       "      <th>2012</th>\n",
       "      <th>2013</th>\n",
       "    </tr>\n",
       "  </thead>\n",
       "  <tbody>\n",
       "    <tr>\n",
       "      <th>0</th>\n",
       "      <td>998</td>\n",
       "      <td>United States (Metropolitan Portion)</td>\n",
       "      <td>NaN</td>\n",
       "      <td>200</td>\n",
       "      <td>GDP by Metropolitan Area (millions of current ...</td>\n",
       "      <td>1</td>\n",
       "      <td>...</td>\n",
       "      <td>All industry total</td>\n",
       "      <td>9578745</td>\n",
       "      <td>9906059</td>\n",
       "      <td>10373523</td>\n",
       "      <td>11059174</td>\n",
       "      <td>11817477</td>\n",
       "      <td>12508774</td>\n",
       "      <td>13075688</td>\n",
       "      <td>13269057</td>\n",
       "      <td>12994636</td>\n",
       "      <td>13461662</td>\n",
       "      <td>13953082</td>\n",
       "      <td>14606938</td>\n",
       "      <td>15079920</td>\n",
       "    </tr>\n",
       "    <tr>\n",
       "      <th>1</th>\n",
       "      <td>998</td>\n",
       "      <td>United States (Metropolitan Portion)</td>\n",
       "      <td>NaN</td>\n",
       "      <td>200</td>\n",
       "      <td>GDP by Metropolitan Area (millions of current ...</td>\n",
       "      <td>2</td>\n",
       "      <td>...</td>\n",
       "      <td>Private industries</td>\n",
       "      <td>8409914</td>\n",
       "      <td>8667345</td>\n",
       "      <td>9065866</td>\n",
       "      <td>9676986</td>\n",
       "      <td>10367862</td>\n",
       "      <td>10988934</td>\n",
       "      <td>11473021</td>\n",
       "      <td>11584878</td>\n",
       "      <td>11259772</td>\n",
       "      <td>11668693</td>\n",
       "      <td>12140232</td>\n",
       "      <td>12776058</td>\n",
       "      <td>13245359</td>\n",
       "    </tr>\n",
       "    <tr>\n",
       "      <th>2</th>\n",
       "      <td>998</td>\n",
       "      <td>United States (Metropolitan Portion)</td>\n",
       "      <td>NaN</td>\n",
       "      <td>200</td>\n",
       "      <td>GDP by Metropolitan Area (millions of current ...</td>\n",
       "      <td>3</td>\n",
       "      <td>11</td>\n",
       "      <td>Agriculture, forestry, fishing, and hunting</td>\n",
       "      <td>53326</td>\n",
       "      <td>52218</td>\n",
       "      <td>60233</td>\n",
       "      <td>72903</td>\n",
       "      <td>66975</td>\n",
       "      <td>69272</td>\n",
       "      <td>74561</td>\n",
       "      <td>75527</td>\n",
       "      <td>70338</td>\n",
       "      <td>79620</td>\n",
       "      <td>93977</td>\n",
       "      <td>94935</td>\n",
       "      <td>124434</td>\n",
       "    </tr>\n",
       "    <tr>\n",
       "      <th>3</th>\n",
       "      <td>998</td>\n",
       "      <td>United States (Metropolitan Portion)</td>\n",
       "      <td>NaN</td>\n",
       "      <td>200</td>\n",
       "      <td>GDP by Metropolitan Area (millions of current ...</td>\n",
       "      <td>4</td>\n",
       "      <td>111-112</td>\n",
       "      <td>Farms</td>\n",
       "      <td>39710</td>\n",
       "      <td>38540</td>\n",
       "      <td>45753</td>\n",
       "      <td>57952</td>\n",
       "      <td>51874</td>\n",
       "      <td>50788</td>\n",
       "      <td>56231</td>\n",
       "      <td>57231</td>\n",
       "      <td>52069</td>\n",
       "      <td>59873</td>\n",
       "      <td>73198</td>\n",
       "      <td>72478</td>\n",
       "      <td>(NA)</td>\n",
       "    </tr>\n",
       "  </tbody>\n",
       "</table>\n",
       "</div>"
      ],
      "text/plain": [
       "  GeoFIPS                               GeoName Region ComponentId                                      ComponentName IndustryId IndustryClassification                                    Description     2001     2002      2003      2004      2005      2006      2007      2008      2009      2010      2011      2012      2013\n",
       "0     998  United States (Metropolitan Portion)    NaN         200  GDP by Metropolitan Area (millions of current ...          1                    ...                             All industry total  9578745  9906059  10373523  11059174  11817477  12508774  13075688  13269057  12994636  13461662  13953082  14606938  15079920\n",
       "1     998  United States (Metropolitan Portion)    NaN         200  GDP by Metropolitan Area (millions of current ...          2                    ...                             Private industries  8409914  8667345   9065866   9676986  10367862  10988934  11473021  11584878  11259772  11668693  12140232  12776058  13245359\n",
       "2     998  United States (Metropolitan Portion)    NaN         200  GDP by Metropolitan Area (millions of current ...          3                     11    Agriculture, forestry, fishing, and hunting    53326    52218     60233     72903     66975     69272     74561     75527     70338     79620     93977     94935    124434\n",
       "3     998  United States (Metropolitan Portion)    NaN         200  GDP by Metropolitan Area (millions of current ...          4                111-112                                          Farms    39710    38540     45753     57952     51874     50788     56231     57231     52069     59873     73198     72478      (NA)"
      ]
     },
     "execution_count": 80,
     "metadata": {},
     "output_type": "execute_result"
    }
   ],
   "source": [
    "gdp_metro.head(4)"
   ]
  },
  {
   "cell_type": "code",
   "execution_count": 81,
   "metadata": {
    "collapsed": true
   },
   "outputs": [],
   "source": [
    "gdp_metro = gdp_metro[gdp_metro.IndustryId == 1]"
   ]
  },
  {
   "cell_type": "code",
   "execution_count": 83,
   "metadata": {
    "collapsed": false
   },
   "outputs": [
    {
     "data": {
      "text/html": [
       "<div>\n",
       "<table border=\"1\" class=\"dataframe\">\n",
       "  <thead>\n",
       "    <tr style=\"text-align: right;\">\n",
       "      <th></th>\n",
       "      <th>GeoFIPS</th>\n",
       "      <th>GeoName</th>\n",
       "      <th>Region</th>\n",
       "      <th>ComponentId</th>\n",
       "      <th>ComponentName</th>\n",
       "      <th>IndustryId</th>\n",
       "      <th>IndustryClassification</th>\n",
       "      <th>Description</th>\n",
       "      <th>2001</th>\n",
       "      <th>2002</th>\n",
       "      <th>2003</th>\n",
       "      <th>2004</th>\n",
       "      <th>2005</th>\n",
       "      <th>2006</th>\n",
       "      <th>2007</th>\n",
       "      <th>2008</th>\n",
       "      <th>2009</th>\n",
       "      <th>2010</th>\n",
       "      <th>2011</th>\n",
       "      <th>2012</th>\n",
       "      <th>2013</th>\n",
       "    </tr>\n",
       "  </thead>\n",
       "  <tbody>\n",
       "    <tr>\n",
       "      <th>0</th>\n",
       "      <td>998</td>\n",
       "      <td>United States (Metropolitan Portion)</td>\n",
       "      <td>NaN</td>\n",
       "      <td>200</td>\n",
       "      <td>GDP by Metropolitan Area (millions of current ...</td>\n",
       "      <td>1</td>\n",
       "      <td>...</td>\n",
       "      <td>All industry total</td>\n",
       "      <td>9578745</td>\n",
       "      <td>9906059</td>\n",
       "      <td>10373523</td>\n",
       "      <td>11059174</td>\n",
       "      <td>11817477</td>\n",
       "      <td>12508774</td>\n",
       "      <td>13075688</td>\n",
       "      <td>13269057</td>\n",
       "      <td>12994636</td>\n",
       "      <td>13461662</td>\n",
       "      <td>13953082</td>\n",
       "      <td>14606938</td>\n",
       "      <td>15079920</td>\n",
       "    </tr>\n",
       "    <tr>\n",
       "      <th>87</th>\n",
       "      <td>10180</td>\n",
       "      <td>Abilene, TX (Metropolitan Statistical Area)</td>\n",
       "      <td>NaN</td>\n",
       "      <td>200</td>\n",
       "      <td>GDP by Metropolitan Area (millions of current ...</td>\n",
       "      <td>1</td>\n",
       "      <td>...</td>\n",
       "      <td>All industry total</td>\n",
       "      <td>3574</td>\n",
       "      <td>3754</td>\n",
       "      <td>4020</td>\n",
       "      <td>4273</td>\n",
       "      <td>4514</td>\n",
       "      <td>4885</td>\n",
       "      <td>5295</td>\n",
       "      <td>5725</td>\n",
       "      <td>5239</td>\n",
       "      <td>5429</td>\n",
       "      <td>5761</td>\n",
       "      <td>6143</td>\n",
       "      <td>6452</td>\n",
       "    </tr>\n",
       "    <tr>\n",
       "      <th>174</th>\n",
       "      <td>10420</td>\n",
       "      <td>Akron, OH (Metropolitan Statistical Area)</td>\n",
       "      <td>NaN</td>\n",
       "      <td>200</td>\n",
       "      <td>GDP by Metropolitan Area (millions of current ...</td>\n",
       "      <td>1</td>\n",
       "      <td>...</td>\n",
       "      <td>All industry total</td>\n",
       "      <td>21646</td>\n",
       "      <td>22742</td>\n",
       "      <td>23744</td>\n",
       "      <td>25217</td>\n",
       "      <td>26649</td>\n",
       "      <td>27418</td>\n",
       "      <td>28177</td>\n",
       "      <td>28663</td>\n",
       "      <td>27761</td>\n",
       "      <td>28616</td>\n",
       "      <td>29425</td>\n",
       "      <td>31012</td>\n",
       "      <td>31485</td>\n",
       "    </tr>\n",
       "    <tr>\n",
       "      <th>261</th>\n",
       "      <td>10500</td>\n",
       "      <td>Albany, GA (Metropolitan Statistical Area)</td>\n",
       "      <td>NaN</td>\n",
       "      <td>200</td>\n",
       "      <td>GDP by Metropolitan Area (millions of current ...</td>\n",
       "      <td>1</td>\n",
       "      <td>...</td>\n",
       "      <td>All industry total</td>\n",
       "      <td>4317</td>\n",
       "      <td>4346</td>\n",
       "      <td>4492</td>\n",
       "      <td>4620</td>\n",
       "      <td>4800</td>\n",
       "      <td>4808</td>\n",
       "      <td>4863</td>\n",
       "      <td>4795</td>\n",
       "      <td>4957</td>\n",
       "      <td>4928</td>\n",
       "      <td>4938</td>\n",
       "      <td>5122</td>\n",
       "      <td>5307</td>\n",
       "    </tr>\n",
       "    <tr>\n",
       "      <th>348</th>\n",
       "      <td>10540</td>\n",
       "      <td>Albany, OR (Metropolitan Statistical Area)</td>\n",
       "      <td>NaN</td>\n",
       "      <td>200</td>\n",
       "      <td>GDP by Metropolitan Area (millions of current ...</td>\n",
       "      <td>1</td>\n",
       "      <td>...</td>\n",
       "      <td>All industry total</td>\n",
       "      <td>2366</td>\n",
       "      <td>2492</td>\n",
       "      <td>2492</td>\n",
       "      <td>2844</td>\n",
       "      <td>2944</td>\n",
       "      <td>3207</td>\n",
       "      <td>3173</td>\n",
       "      <td>3235</td>\n",
       "      <td>3064</td>\n",
       "      <td>3050</td>\n",
       "      <td>3170</td>\n",
       "      <td>3294</td>\n",
       "      <td>3375</td>\n",
       "    </tr>\n",
       "  </tbody>\n",
       "</table>\n",
       "</div>"
      ],
      "text/plain": [
       "    GeoFIPS                                      GeoName Region ComponentId                                      ComponentName IndustryId IndustryClassification         Description     2001     2002      2003      2004      2005      2006      2007      2008      2009      2010      2011      2012      2013\n",
       "0       998         United States (Metropolitan Portion)    NaN         200  GDP by Metropolitan Area (millions of current ...          1                    ...  All industry total  9578745  9906059  10373523  11059174  11817477  12508774  13075688  13269057  12994636  13461662  13953082  14606938  15079920\n",
       "87    10180  Abilene, TX (Metropolitan Statistical Area)    NaN         200  GDP by Metropolitan Area (millions of current ...          1                    ...  All industry total     3574     3754      4020      4273      4514      4885      5295      5725      5239      5429      5761      6143      6452\n",
       "174   10420    Akron, OH (Metropolitan Statistical Area)    NaN         200  GDP by Metropolitan Area (millions of current ...          1                    ...  All industry total    21646    22742     23744     25217     26649     27418     28177     28663     27761     28616     29425     31012     31485\n",
       "261   10500   Albany, GA (Metropolitan Statistical Area)    NaN         200  GDP by Metropolitan Area (millions of current ...          1                    ...  All industry total     4317     4346      4492      4620      4800      4808      4863      4795      4957      4928      4938      5122      5307\n",
       "348   10540   Albany, OR (Metropolitan Statistical Area)    NaN         200  GDP by Metropolitan Area (millions of current ...          1                    ...  All industry total     2366     2492      2492      2844      2944      3207      3173      3235      3064      3050      3170      3294      3375"
      ]
     },
     "execution_count": 83,
     "metadata": {},
     "output_type": "execute_result"
    }
   ],
   "source": [
    "gdp_metro.head()"
   ]
  },
  {
   "cell_type": "code",
   "execution_count": 84,
   "metadata": {
    "collapsed": true
   },
   "outputs": [],
   "source": [
    "gdp_metro_6yrs = pd.melt(gdp_metro, id_vars=['GeoFIPS', 'GeoName'], value_vars=['2008', '2009', '2010', '2011', '2012', '2013'], var_name='year', value_name='GDP')"
   ]
  },
  {
   "cell_type": "code",
   "execution_count": 85,
   "metadata": {
    "collapsed": true
   },
   "outputs": [],
   "source": [
    "gdp_metro_6yrs['GDP'] = gdp_metro_6yrs['GDP'].convert_objects(convert_numeric=True)"
   ]
  },
  {
   "cell_type": "code",
   "execution_count": 86,
   "metadata": {
    "collapsed": true
   },
   "outputs": [],
   "source": [
    "gdp_metro_6yrs['gdp_growth'] = gdp_metro_6yrs.groupby('GeoFIPS').pct_change()"
   ]
  },
  {
   "cell_type": "code",
   "execution_count": 87,
   "metadata": {
    "collapsed": true
   },
   "outputs": [],
   "source": [
    "gdp_metro_6yrs['GeoFIPS'] = gdp_metro_6yrs['GeoFIPS'].convert_objects(convert_numeric=True)"
   ]
  },
  {
   "cell_type": "code",
   "execution_count": 88,
   "metadata": {
    "collapsed": true
   },
   "outputs": [],
   "source": [
    "gdp_metro_6yrs['year'] = gdp_metro_6yrs['year'].convert_objects(convert_numeric=True)"
   ]
  },
  {
   "cell_type": "code",
   "execution_count": 89,
   "metadata": {
    "collapsed": false
   },
   "outputs": [
    {
     "data": {
      "text/html": [
       "<div>\n",
       "<table border=\"1\" class=\"dataframe\">\n",
       "  <thead>\n",
       "    <tr style=\"text-align: right;\">\n",
       "      <th></th>\n",
       "      <th>GeoFIPS</th>\n",
       "      <th>GeoName</th>\n",
       "      <th>year</th>\n",
       "      <th>GDP</th>\n",
       "      <th>gdp_growth</th>\n",
       "    </tr>\n",
       "  </thead>\n",
       "  <tbody>\n",
       "    <tr>\n",
       "      <th>103</th>\n",
       "      <td>20500</td>\n",
       "      <td>Durham-Chapel Hill, NC (Metropolitan Statistic...</td>\n",
       "      <td>2008</td>\n",
       "      <td>36853</td>\n",
       "      <td>NaN</td>\n",
       "    </tr>\n",
       "    <tr>\n",
       "      <th>496</th>\n",
       "      <td>20500</td>\n",
       "      <td>Durham-Chapel Hill, NC (Metropolitan Statistic...</td>\n",
       "      <td>2009</td>\n",
       "      <td>38700</td>\n",
       "      <td>0.050118</td>\n",
       "    </tr>\n",
       "    <tr>\n",
       "      <th>889</th>\n",
       "      <td>20500</td>\n",
       "      <td>Durham-Chapel Hill, NC (Metropolitan Statistic...</td>\n",
       "      <td>2010</td>\n",
       "      <td>40038</td>\n",
       "      <td>0.034574</td>\n",
       "    </tr>\n",
       "    <tr>\n",
       "      <th>1282</th>\n",
       "      <td>20500</td>\n",
       "      <td>Durham-Chapel Hill, NC (Metropolitan Statistic...</td>\n",
       "      <td>2011</td>\n",
       "      <td>39484</td>\n",
       "      <td>-0.013837</td>\n",
       "    </tr>\n",
       "    <tr>\n",
       "      <th>1675</th>\n",
       "      <td>20500</td>\n",
       "      <td>Durham-Chapel Hill, NC (Metropolitan Statistic...</td>\n",
       "      <td>2012</td>\n",
       "      <td>41366</td>\n",
       "      <td>0.047665</td>\n",
       "    </tr>\n",
       "    <tr>\n",
       "      <th>2068</th>\n",
       "      <td>20500</td>\n",
       "      <td>Durham-Chapel Hill, NC (Metropolitan Statistic...</td>\n",
       "      <td>2013</td>\n",
       "      <td>42245</td>\n",
       "      <td>0.021249</td>\n",
       "    </tr>\n",
       "  </tbody>\n",
       "</table>\n",
       "</div>"
      ],
      "text/plain": [
       "      GeoFIPS                                            GeoName  year    GDP  gdp_growth\n",
       "103     20500  Durham-Chapel Hill, NC (Metropolitan Statistic...  2008  36853         NaN\n",
       "496     20500  Durham-Chapel Hill, NC (Metropolitan Statistic...  2009  38700    0.050118\n",
       "889     20500  Durham-Chapel Hill, NC (Metropolitan Statistic...  2010  40038    0.034574\n",
       "1282    20500  Durham-Chapel Hill, NC (Metropolitan Statistic...  2011  39484   -0.013837\n",
       "1675    20500  Durham-Chapel Hill, NC (Metropolitan Statistic...  2012  41366    0.047665\n",
       "2068    20500  Durham-Chapel Hill, NC (Metropolitan Statistic...  2013  42245    0.021249"
      ]
     },
     "execution_count": 89,
     "metadata": {},
     "output_type": "execute_result"
    }
   ],
   "source": [
    "gdp_metro_6yrs[gdp_metro_6yrs.GeoName.str.contains(\"Durham\")]"
   ]
  },
  {
   "cell_type": "code",
   "execution_count": 90,
   "metadata": {
    "collapsed": true
   },
   "outputs": [],
   "source": [
    "orgs_vouchers_lihtc_gdp_5yrs = pd.merge(orgs_vouchers_lihtc_5yrs, gdp_metro_6yrs, on=None, left_on=['Metropolitan and Micropolitan Statistical Area', 'year'], right_on=['GeoFIPS', 'year'], how='outer')"
   ]
  },
  {
   "cell_type": "code",
   "execution_count": 91,
   "metadata": {
    "collapsed": false
   },
   "outputs": [
    {
     "data": {
      "text/plain": [
       "(62423, 173)"
      ]
     },
     "execution_count": 91,
     "metadata": {},
     "output_type": "execute_result"
    }
   ],
   "source": [
    "orgs_vouchers_lihtc_gdp_5yrs.shape"
   ]
  },
  {
   "cell_type": "markdown",
   "metadata": {},
   "source": [
    "###Descriptive Statistics (city-level)"
   ]
  },
  {
   "cell_type": "markdown",
   "metadata": {},
   "source": [
    "Orgs by city\n",
    "\n",
    "Org income by city\n",
    "\n",
    "Org age by city"
   ]
  },
  {
   "cell_type": "code",
   "execution_count": 92,
   "metadata": {
    "collapsed": true
   },
   "outputs": [],
   "source": [
    "df = orgs_vouchers_lihtc_gdp_5yrs"
   ]
  },
  {
   "cell_type": "code",
   "execution_count": 127,
   "metadata": {
    "collapsed": false
   },
   "outputs": [],
   "source": [
    "#df[['code', 'city_lower']]"
   ]
  },
  {
   "cell_type": "code",
   "execution_count": 93,
   "metadata": {
    "collapsed": false
   },
   "outputs": [],
   "source": [
    "by_city = df.groupby('city_lower')"
   ]
  },
  {
   "cell_type": "code",
   "execution_count": 94,
   "metadata": {
    "collapsed": false
   },
   "outputs": [],
   "source": [
    "most_orgs = df.groupby('city_lower').size().order(ascending=False)[:25]"
   ]
  },
  {
   "cell_type": "code",
   "execution_count": 95,
   "metadata": {
    "collapsed": false
   },
   "outputs": [
    {
     "name": "stdout",
     "output_type": "stream",
     "text": [
      "city_lower\n",
      "new york        3314\n",
      "chicago         2679\n",
      "los angeles     2175\n",
      "philadelphia    2007\n",
      "columbus        1944\n",
      "dtype: int64\n"
     ]
    }
   ],
   "source": [
    "print most_orgs.head()"
   ]
  },
  {
   "cell_type": "code",
   "execution_count": 96,
   "metadata": {
    "collapsed": false
   },
   "outputs": [
    {
     "data": {
      "text/plain": [
       "new york        3314\n",
       "chicago         2679\n",
       "los angeles     2175\n",
       "philadelphia    2007\n",
       "columbus        1944\n",
       "dtype: int64"
      ]
     },
     "execution_count": 96,
     "metadata": {},
     "output_type": "execute_result"
    }
   ],
   "source": [
    "df.city_lower.value_counts().head()"
   ]
  },
  {
   "cell_type": "code",
   "execution_count": 97,
   "metadata": {
    "collapsed": true
   },
   "outputs": [],
   "source": [
    "income_by_city = df.groupby('city_lower').agg({'INCOME': [np.size, np.median]})"
   ]
  },
  {
   "cell_type": "code",
   "execution_count": 98,
   "metadata": {
    "collapsed": false
   },
   "outputs": [
    {
     "name": "stdout",
     "output_type": "stream",
     "text": [
      "                 INCOME           \n",
      "                   size     median\n",
      "city_lower                        \n",
      "irvine              142  1108534.5\n",
      "santa ana           116   732330.0\n",
      "fremont              31   658046.0\n",
      "irving               29   556959.0\n",
      "long beach         1035   389903.0\n",
      "glendale            159   364237.0\n",
      "colorado springs     17   322180.0\n",
      "akron               286   320395.0\n",
      "tampa               416   311886.5\n",
      "richmond            465   304282.0\n"
     ]
    }
   ],
   "source": [
    "print income_by_city.sort([('INCOME', 'median')], ascending=False).head(10)"
   ]
  },
  {
   "cell_type": "code",
   "execution_count": 99,
   "metadata": {
    "collapsed": false
   },
   "outputs": [
    {
     "data": {
      "text/plain": [
       "count     60497.000000\n",
       "mean     198355.733441\n",
       "std       11151.838897\n",
       "min           0.000000\n",
       "25%      198301.000000\n",
       "50%      199309.000000\n",
       "75%      200004.000000\n",
       "max      201311.000000\n",
       "Name: RULEDATE, dtype: float64"
      ]
     },
     "execution_count": 99,
     "metadata": {},
     "output_type": "execute_result"
    }
   ],
   "source": [
    "df.RULEDATE.describe()"
   ]
  },
  {
   "cell_type": "code",
   "execution_count": 100,
   "metadata": {
    "collapsed": false
   },
   "outputs": [],
   "source": [
    "df['RULEDATE'] = df['RULEDATE'].astype(str)"
   ]
  },
  {
   "cell_type": "code",
   "execution_count": 101,
   "metadata": {
    "collapsed": false
   },
   "outputs": [],
   "source": [
    "df['year_found'] = df['RULEDATE'].str[0:4]"
   ]
  },
  {
   "cell_type": "code",
   "execution_count": 102,
   "metadata": {
    "collapsed": false
   },
   "outputs": [],
   "source": [
    "df['year_found'] = df['year_found'].convert_objects(convert_numeric=True)"
   ]
  },
  {
   "cell_type": "code",
   "execution_count": 103,
   "metadata": {
    "collapsed": false
   },
   "outputs": [
    {
     "data": {
      "text/plain": [
       "count    60497.000000\n",
       "mean      1983.492917\n",
       "std        111.514707\n",
       "min          0.000000\n",
       "25%       1983.000000\n",
       "50%       1993.000000\n",
       "75%       2000.000000\n",
       "max       2013.000000\n",
       "Name: year_found, dtype: float64"
      ]
     },
     "execution_count": 103,
     "metadata": {},
     "output_type": "execute_result"
    }
   ],
   "source": [
    "df.year_found.describe()"
   ]
  },
  {
   "cell_type": "code",
   "execution_count": 104,
   "metadata": {
    "collapsed": false
   },
   "outputs": [],
   "source": [
    "df['year_found'] = df.year_found.replace(0, np.nan)"
   ]
  },
  {
   "cell_type": "code",
   "execution_count": 105,
   "metadata": {
    "collapsed": false
   },
   "outputs": [
    {
     "data": {
      "text/plain": [
       "count    60310.000000\n",
       "mean      1989.643028\n",
       "std         15.406525\n",
       "min       1908.000000\n",
       "25%       1983.000000\n",
       "50%       1993.000000\n",
       "75%       2000.000000\n",
       "max       2013.000000\n",
       "Name: year_found, dtype: float64"
      ]
     },
     "execution_count": 105,
     "metadata": {},
     "output_type": "execute_result"
    }
   ],
   "source": [
    "df.year_found.describe()"
   ]
  },
  {
   "cell_type": "code",
   "execution_count": 106,
   "metadata": {
    "collapsed": false
   },
   "outputs": [
    {
     "data": {
      "text/plain": [
       "<matplotlib.text.Text at 0x22336518>"
      ]
     },
     "execution_count": 106,
     "metadata": {},
     "output_type": "execute_result"
    },
    {
     "data": {
      "image/png": "[encoded data removed]",
      "text/plain": [
       "<matplotlib.figure.Figure at 0x223426d8>"
      ]
     },
     "metadata": {},
     "output_type": "display_data"
    }
   ],
   "source": [
    "df.year_found.hist(bins=200)\n",
    "plt.title(\"Year Founded\")\n",
    "plt.ylabel('Count')\n",
    "plt.axis([1905, 2015, 0, 3500])\n",
    "plt.xlabel('Date')"
   ]
  },
  {
   "cell_type": "code",
   "execution_count": 107,
   "metadata": {
    "collapsed": false
   },
   "outputs": [],
   "source": [
    "df['org_age'] = df['year'] - df['year_found']"
   ]
  },
  {
   "cell_type": "code",
   "execution_count": 108,
   "metadata": {
    "collapsed": false
   },
   "outputs": [
    {
     "data": {
      "text/plain": [
       "<matplotlib.text.Text at 0x1c0690f0>"
      ]
     },
     "execution_count": 108,
     "metadata": {},
     "output_type": "execute_result"
    },
    {
     "data": {
      "image/png": "[encoded data removed]",
      "text/plain": [
       "<matplotlib.figure.Figure at 0x20467e48>"
      ]
     },
     "metadata": {},
     "output_type": "display_data"
    }
   ],
   "source": [
    "df.org_age.hist(bins=500)\n",
    "plt.title(\"Org Age\")\n",
    "plt.ylabel('Count')\n",
    "plt.axis([0, 100, 0, 3000])\n",
    "plt.xlabel('Age')"
   ]
  },
  {
   "cell_type": "code",
   "execution_count": 109,
   "metadata": {
    "collapsed": false
   },
   "outputs": [],
   "source": [
    "df_cond = df[['NAME_x', 'NTEECC', 'city_lower', 'state_lower', 'INCOME', 'year_found', 'org_age']]"
   ]
  },
  {
   "cell_type": "code",
   "execution_count": 111,
   "metadata": {
    "collapsed": false
   },
   "outputs": [
    {
     "data": {
      "text/html": [
       "<div>\n",
       "<table border=\"1\" class=\"dataframe\">\n",
       "  <thead>\n",
       "    <tr style=\"text-align: right;\">\n",
       "      <th></th>\n",
       "      <th>NAME_x</th>\n",
       "      <th>NTEECC</th>\n",
       "      <th>city_lower</th>\n",
       "      <th>state_lower</th>\n",
       "      <th>INCOME</th>\n",
       "      <th>year_found</th>\n",
       "      <th>org_age</th>\n",
       "    </tr>\n",
       "  </thead>\n",
       "  <tbody>\n",
       "    <tr>\n",
       "      <th>5762</th>\n",
       "      <td>THE FORT WAYNE RESCUE MISSION MINISTRIES INC</td>\n",
       "      <td>L41</td>\n",
       "      <td>fort wayne</td>\n",
       "      <td>in</td>\n",
       "      <td>3514633</td>\n",
       "      <td>1908</td>\n",
       "      <td>105</td>\n",
       "    </tr>\n",
       "    <tr>\n",
       "      <th>17374</th>\n",
       "      <td>THE FORT WAYNE RESCUE MISSION MINISTRIES INC</td>\n",
       "      <td>L41</td>\n",
       "      <td>fort wayne</td>\n",
       "      <td>in</td>\n",
       "      <td>3411783</td>\n",
       "      <td>1908</td>\n",
       "      <td>104</td>\n",
       "    </tr>\n",
       "    <tr>\n",
       "      <th>28386</th>\n",
       "      <td>THE FORT WAYNE RESCUE MISSION MINISTRIES INC</td>\n",
       "      <td>L41</td>\n",
       "      <td>fort wayne</td>\n",
       "      <td>in</td>\n",
       "      <td>4896662</td>\n",
       "      <td>1908</td>\n",
       "      <td>103</td>\n",
       "    </tr>\n",
       "    <tr>\n",
       "      <th>42942</th>\n",
       "      <td>THE FORT WAYNE RESCUE MISSION MINISTRIES INC</td>\n",
       "      <td>L41</td>\n",
       "      <td>fort wayne</td>\n",
       "      <td>in</td>\n",
       "      <td>4896662</td>\n",
       "      <td>1908</td>\n",
       "      <td>102</td>\n",
       "    </tr>\n",
       "    <tr>\n",
       "      <th>56445</th>\n",
       "      <td>THE FORT WAYNE RESCUE MISSION MINISTRIES INC</td>\n",
       "      <td>L41</td>\n",
       "      <td>fort wayne</td>\n",
       "      <td>in</td>\n",
       "      <td>2523209</td>\n",
       "      <td>1908</td>\n",
       "      <td>101</td>\n",
       "    </tr>\n",
       "    <tr>\n",
       "      <th>33965</th>\n",
       "      <td>STAPELEY HALL</td>\n",
       "      <td>L22</td>\n",
       "      <td>philadelphia</td>\n",
       "      <td>pa</td>\n",
       "      <td>0</td>\n",
       "      <td>1914</td>\n",
       "      <td>96</td>\n",
       "    </tr>\n",
       "    <tr>\n",
       "      <th>5</th>\n",
       "      <td>CAMBRIDGE HOMES</td>\n",
       "      <td>S22</td>\n",
       "      <td>boston</td>\n",
       "      <td>ma</td>\n",
       "      <td>14679414</td>\n",
       "      <td>1918</td>\n",
       "      <td>95</td>\n",
       "    </tr>\n",
       "    <tr>\n",
       "      <th>47227</th>\n",
       "      <td>STAPELEY HALL</td>\n",
       "      <td>L22</td>\n",
       "      <td>philadelphia</td>\n",
       "      <td>pa</td>\n",
       "      <td>0</td>\n",
       "      <td>1914</td>\n",
       "      <td>95</td>\n",
       "    </tr>\n",
       "    <tr>\n",
       "      <th>10701</th>\n",
       "      <td>CAMBRIDGE HOMES</td>\n",
       "      <td>S22</td>\n",
       "      <td>boston</td>\n",
       "      <td>ma</td>\n",
       "      <td>6995609</td>\n",
       "      <td>1918</td>\n",
       "      <td>94</td>\n",
       "    </tr>\n",
       "    <tr>\n",
       "      <th>21789</th>\n",
       "      <td>CAMBRIDGE HOMES</td>\n",
       "      <td>S22</td>\n",
       "      <td>boston</td>\n",
       "      <td>ma</td>\n",
       "      <td>9440657</td>\n",
       "      <td>1918</td>\n",
       "      <td>93</td>\n",
       "    </tr>\n",
       "  </tbody>\n",
       "</table>\n",
       "</div>"
      ],
      "text/plain": [
       "                                             NAME_x NTEECC    city_lower state_lower    INCOME  year_found  org_age\n",
       "5762   THE FORT WAYNE RESCUE MISSION MINISTRIES INC    L41    fort wayne          in   3514633        1908      105\n",
       "17374  THE FORT WAYNE RESCUE MISSION MINISTRIES INC    L41    fort wayne          in   3411783        1908      104\n",
       "28386  THE FORT WAYNE RESCUE MISSION MINISTRIES INC    L41    fort wayne          in   4896662        1908      103\n",
       "42942  THE FORT WAYNE RESCUE MISSION MINISTRIES INC    L41    fort wayne          in   4896662        1908      102\n",
       "56445  THE FORT WAYNE RESCUE MISSION MINISTRIES INC    L41    fort wayne          in   2523209        1908      101\n",
       "33965                                 STAPELEY HALL    L22  philadelphia          pa         0        1914       96\n",
       "5                                   CAMBRIDGE HOMES    S22        boston          ma  14679414        1918       95\n",
       "47227                                 STAPELEY HALL    L22  philadelphia          pa         0        1914       95\n",
       "10701                               CAMBRIDGE HOMES    S22        boston          ma   6995609        1918       94\n",
       "21789                               CAMBRIDGE HOMES    S22        boston          ma   9440657        1918       93"
      ]
     },
     "execution_count": 111,
     "metadata": {},
     "output_type": "execute_result"
    }
   ],
   "source": [
    "df_cond[df_cond.org_age > 80].sort('org_age', ascending=False).head(10)"
   ]
  },
  {
   "cell_type": "code",
   "execution_count": 112,
   "metadata": {
    "collapsed": true
   },
   "outputs": [],
   "source": [
    "age_by_city = df.groupby('city_lower').agg({'org_age': [np.size, np.median]})"
   ]
  },
  {
   "cell_type": "code",
   "execution_count": 113,
   "metadata": {
    "collapsed": false
   },
   "outputs": [
    {
     "name": "stdout",
     "output_type": "stream",
     "text": [
      "            org_age       \n",
      "               size median\n",
      "city_lower                \n",
      "fremont          31   31.0\n",
      "columbus       1944   27.0\n",
      "cleveland       800   26.0\n",
      "rochester       793   26.0\n",
      "greensboro     1443   23.0\n",
      "tampa           416   22.0\n",
      "laredo           77   22.0\n",
      "cincinnati      785   22.0\n",
      "jersey city      32   21.5\n",
      "amarillo         23   21.0\n"
     ]
    }
   ],
   "source": [
    "print age_by_city.sort([('org_age', 'median')], ascending=False).head(10)"
   ]
  },
  {
   "cell_type": "markdown",
   "metadata": {},
   "source": [
    "###Create new dataset of city characterstics (like the collapse command in Stata)"
   ]
  },
  {
   "cell_type": "code",
   "execution_count": 114,
   "metadata": {
    "collapsed": false
   },
   "outputs": [],
   "source": [
    "df['pct_minority'] = 1 - (df['White Alone'] / df['Total Population'])\n",
    "df['poverty_rate'] = df['Families: Income in 2013 below poverty level'] / df['Families']\n",
    "df['log_inc'] = df['INCOME'].apply(np.log)"
   ]
  },
  {
   "cell_type": "code",
   "execution_count": 115,
   "metadata": {
    "collapsed": false
   },
   "outputs": [],
   "source": [
    "df['voucher_use'] = df['voucher_use'].convert_objects(convert_numeric=True)"
   ]
  },
  {
   "cell_type": "code",
   "execution_count": 116,
   "metadata": {
    "collapsed": true
   },
   "outputs": [],
   "source": [
    "df['logvouchuse'] = df['voucher_use'].apply(np.log)"
   ]
  },
  {
   "cell_type": "code",
   "execution_count": 308,
   "metadata": {
    "collapsed": false
   },
   "outputs": [
    {
     "data": {
      "text/plain": [
       "(62423, 178)"
      ]
     },
     "execution_count": 308,
     "metadata": {},
     "output_type": "execute_result"
    }
   ],
   "source": [
    "df.shape"
   ]
  },
  {
   "cell_type": "code",
   "execution_count": 117,
   "metadata": {
    "collapsed": true
   },
   "outputs": [],
   "source": [
    "advocacy_dummy = pd.get_dummies(df['NTEECC'], prefix='NTEECC')"
   ]
  },
  {
   "cell_type": "code",
   "execution_count": 118,
   "metadata": {
    "collapsed": false
   },
   "outputs": [],
   "source": [
    "df = df.join(advocacy_dummy.ix[:, 'NTEECC_L01'])"
   ]
  },
  {
   "cell_type": "code",
   "execution_count": 311,
   "metadata": {
    "collapsed": false
   },
   "outputs": [
    {
     "data": {
      "text/plain": [
       "0    61955\n",
       "1      468\n",
       "dtype: int64"
      ]
     },
     "execution_count": 311,
     "metadata": {},
     "output_type": "execute_result"
    }
   ],
   "source": [
    "df['NTEECC_L01'].value_counts()"
   ]
  },
  {
   "cell_type": "code",
   "execution_count": 119,
   "metadata": {
    "collapsed": false
   },
   "outputs": [],
   "source": [
    "df['cdc_in_name'] = df.NAME_x.str.contains('COMMUNITY DEVELOPMENT') | df.NAME_x.str.contains('COMMUNITY DEVELOPMENT CORPORATION') | df.NAME_x.str.contains('CDC')"
   ]
  },
  {
   "cell_type": "code",
   "execution_count": 120,
   "metadata": {
    "collapsed": false
   },
   "outputs": [],
   "source": [
    "df['cdc'] = df['cdc_in_name'].astype(int)"
   ]
  },
  {
   "cell_type": "code",
   "execution_count": 121,
   "metadata": {
    "collapsed": false
   },
   "outputs": [],
   "source": [
    "city_df = df.groupby(['Place (State FIPS + Place FIPS)', 'city_lower', 'state_lower', 'year'], as_index=False)"
   ]
  },
  {
   "cell_type": "code",
   "execution_count": 122,
   "metadata": {
    "collapsed": false
   },
   "outputs": [],
   "source": [
    "city_df = city_df.agg({'EIN' : {'Number of Orgs': 'count'},\n",
    "               'org_age' : {'Median Org Age (all orgs)':  'median'},\n",
    "               'log_inc' : {'Median Log Income (all orgs)': 'median'},\n",
    "               'NTEECC_L01' : {'Number of Advocacy Orgs': 'sum'},\n",
    "               'cdc': {'Number of CDCs': 'sum'},\n",
    "               'Total Population' : {'City Population': 'mean'},\n",
    "               'pct_minority' : {'Percent Minority': 'mean'},\n",
    "               'poverty_rate' : {'Poverty Rate': 'mean'},\n",
    "               'Households: Gini Index' : {'Gini Index': 'mean'},\n",
    "               'gdp_growth' : {'GDP Growth (metro area)': 'mean'},\n",
    "               'total_units': {'Units Built' : 'mean'},\n",
    "               'logvouchuse': {'Log Voucher Use': 'mean'}\n",
    "              } )"
   ]
  },
  {
   "cell_type": "code",
   "execution_count": 123,
   "metadata": {
    "collapsed": false
   },
   "outputs": [
    {
     "data": {
      "text/html": [
       "<div>\n",
       "<table border=\"1\" class=\"dataframe\">\n",
       "  <thead>\n",
       "    <tr>\n",
       "      <th></th>\n",
       "      <th>Place (State FIPS + Place FIPS)</th>\n",
       "      <th>city_lower</th>\n",
       "      <th>state_lower</th>\n",
       "      <th>year</th>\n",
       "      <th>Total Population</th>\n",
       "      <th>cdc</th>\n",
       "      <th>log_inc</th>\n",
       "      <th>org_age</th>\n",
       "      <th>NTEECC_L01</th>\n",
       "      <th>total_units</th>\n",
       "      <th>gdp_growth</th>\n",
       "      <th>EIN</th>\n",
       "      <th>logvouchuse</th>\n",
       "      <th>pct_minority</th>\n",
       "      <th>poverty_rate</th>\n",
       "      <th>Households: Gini Index</th>\n",
       "    </tr>\n",
       "    <tr>\n",
       "      <th></th>\n",
       "      <th></th>\n",
       "      <th></th>\n",
       "      <th></th>\n",
       "      <th></th>\n",
       "      <th>City Population</th>\n",
       "      <th>Number of CDCs</th>\n",
       "      <th>Median Log Income (all orgs)</th>\n",
       "      <th>Median Org Age (all orgs)</th>\n",
       "      <th>Number of Advocacy Orgs</th>\n",
       "      <th>Units Built</th>\n",
       "      <th>GDP Growth (metro area)</th>\n",
       "      <th>Number of Orgs</th>\n",
       "      <th>Log Voucher Use</th>\n",
       "      <th>Percent Minority</th>\n",
       "      <th>Poverty Rate</th>\n",
       "      <th>Gini Index</th>\n",
       "    </tr>\n",
       "  </thead>\n",
       "  <tbody>\n",
       "    <tr>\n",
       "      <th>0</th>\n",
       "      <td>107000</td>\n",
       "      <td>birmingham</td>\n",
       "      <td>al</td>\n",
       "      <td>2009</td>\n",
       "      <td>231486</td>\n",
       "      <td>3</td>\n",
       "      <td>10.835022</td>\n",
       "      <td>15.0</td>\n",
       "      <td>1</td>\n",
       "      <td>2971</td>\n",
       "      <td>-0.066228</td>\n",
       "      <td>125</td>\n",
       "      <td>4.521789</td>\n",
       "      <td>0.747453</td>\n",
       "      <td>0.211099</td>\n",
       "      <td>0.4870</td>\n",
       "    </tr>\n",
       "    <tr>\n",
       "      <th>1</th>\n",
       "      <td>107000</td>\n",
       "      <td>birmingham</td>\n",
       "      <td>al</td>\n",
       "      <td>2010</td>\n",
       "      <td>216392</td>\n",
       "      <td>3</td>\n",
       "      <td>11.279584</td>\n",
       "      <td>16.0</td>\n",
       "      <td>1</td>\n",
       "      <td>2971</td>\n",
       "      <td>0.032606</td>\n",
       "      <td>122</td>\n",
       "      <td>4.454347</td>\n",
       "      <td>0.770888</td>\n",
       "      <td>0.212195</td>\n",
       "      <td>0.4890</td>\n",
       "    </tr>\n",
       "    <tr>\n",
       "      <th>2</th>\n",
       "      <td>107000</td>\n",
       "      <td>birmingham</td>\n",
       "      <td>al</td>\n",
       "      <td>2011</td>\n",
       "      <td>214348</td>\n",
       "      <td>3</td>\n",
       "      <td>11.563400</td>\n",
       "      <td>17.0</td>\n",
       "      <td>1</td>\n",
       "      <td>2971</td>\n",
       "      <td>0.060244</td>\n",
       "      <td>99</td>\n",
       "      <td>4.465908</td>\n",
       "      <td>0.768311</td>\n",
       "      <td>0.224508</td>\n",
       "      <td>0.4893</td>\n",
       "    </tr>\n",
       "    <tr>\n",
       "      <th>3</th>\n",
       "      <td>107000</td>\n",
       "      <td>birmingham</td>\n",
       "      <td>al</td>\n",
       "      <td>2012</td>\n",
       "      <td>213180</td>\n",
       "      <td>3</td>\n",
       "      <td>11.844292</td>\n",
       "      <td>18.0</td>\n",
       "      <td>1</td>\n",
       "      <td>2971</td>\n",
       "      <td>0.063536</td>\n",
       "      <td>93</td>\n",
       "      <td>4.499810</td>\n",
       "      <td>0.772319</td>\n",
       "      <td>0.243358</td>\n",
       "      <td>0.4919</td>\n",
       "    </tr>\n",
       "    <tr>\n",
       "      <th>4</th>\n",
       "      <td>107000</td>\n",
       "      <td>birmingham</td>\n",
       "      <td>al</td>\n",
       "      <td>2013</td>\n",
       "      <td>212295</td>\n",
       "      <td>2</td>\n",
       "      <td>11.871592</td>\n",
       "      <td>19.0</td>\n",
       "      <td>1</td>\n",
       "      <td>2971</td>\n",
       "      <td>0.000234</td>\n",
       "      <td>83</td>\n",
       "      <td>4.499810</td>\n",
       "      <td>0.773217</td>\n",
       "      <td>0.248970</td>\n",
       "      <td>0.4970</td>\n",
       "    </tr>\n",
       "    <tr>\n",
       "      <th>5</th>\n",
       "      <td>150000</td>\n",
       "      <td>mobile</td>\n",
       "      <td>al</td>\n",
       "      <td>2009</td>\n",
       "      <td>191936</td>\n",
       "      <td>1</td>\n",
       "      <td>12.061117</td>\n",
       "      <td>15.5</td>\n",
       "      <td>0</td>\n",
       "      <td>2026</td>\n",
       "      <td>0.007594</td>\n",
       "      <td>70</td>\n",
       "      <td>4.465908</td>\n",
       "      <td>0.526530</td>\n",
       "      <td>0.183844</td>\n",
       "      <td>0.5100</td>\n",
       "    </tr>\n",
       "    <tr>\n",
       "      <th>6</th>\n",
       "      <td>150000</td>\n",
       "      <td>mobile</td>\n",
       "      <td>al</td>\n",
       "      <td>2010</td>\n",
       "      <td>195619</td>\n",
       "      <td>1</td>\n",
       "      <td>11.832578</td>\n",
       "      <td>15.0</td>\n",
       "      <td>0</td>\n",
       "      <td>2026</td>\n",
       "      <td>0.032351</td>\n",
       "      <td>71</td>\n",
       "      <td>4.330733</td>\n",
       "      <td>0.539707</td>\n",
       "      <td>0.179356</td>\n",
       "      <td>0.5110</td>\n",
       "    </tr>\n",
       "    <tr>\n",
       "      <th>7</th>\n",
       "      <td>150000</td>\n",
       "      <td>mobile</td>\n",
       "      <td>al</td>\n",
       "      <td>2011</td>\n",
       "      <td>195457</td>\n",
       "      <td>1</td>\n",
       "      <td>12.066029</td>\n",
       "      <td>15.0</td>\n",
       "      <td>0</td>\n",
       "      <td>2026</td>\n",
       "      <td>0.030506</td>\n",
       "      <td>71</td>\n",
       "      <td>4.406719</td>\n",
       "      <td>0.539003</td>\n",
       "      <td>0.181097</td>\n",
       "      <td>0.5087</td>\n",
       "    </tr>\n",
       "    <tr>\n",
       "      <th>8</th>\n",
       "      <td>150000</td>\n",
       "      <td>mobile</td>\n",
       "      <td>al</td>\n",
       "      <td>2012</td>\n",
       "      <td>195239</td>\n",
       "      <td>1</td>\n",
       "      <td>11.888285</td>\n",
       "      <td>18.5</td>\n",
       "      <td>0</td>\n",
       "      <td>2026</td>\n",
       "      <td>0.014974</td>\n",
       "      <td>76</td>\n",
       "      <td>4.343805</td>\n",
       "      <td>0.543877</td>\n",
       "      <td>0.185307</td>\n",
       "      <td>0.5052</td>\n",
       "    </tr>\n",
       "    <tr>\n",
       "      <th>9</th>\n",
       "      <td>150000</td>\n",
       "      <td>mobile</td>\n",
       "      <td>al</td>\n",
       "      <td>2013</td>\n",
       "      <td>195116</td>\n",
       "      <td>1</td>\n",
       "      <td>12.150392</td>\n",
       "      <td>21.5</td>\n",
       "      <td>0</td>\n",
       "      <td>2026</td>\n",
       "      <td>0.042558</td>\n",
       "      <td>74</td>\n",
       "      <td>4.369448</td>\n",
       "      <td>0.546014</td>\n",
       "      <td>0.196583</td>\n",
       "      <td>0.5115</td>\n",
       "    </tr>\n",
       "    <tr>\n",
       "      <th>10</th>\n",
       "      <td>151000</td>\n",
       "      <td>montgomery</td>\n",
       "      <td>al</td>\n",
       "      <td>2009</td>\n",
       "      <td>202487</td>\n",
       "      <td>0</td>\n",
       "      <td>9.542661</td>\n",
       "      <td>15.0</td>\n",
       "      <td>0</td>\n",
       "      <td>2603</td>\n",
       "      <td>-0.007684</td>\n",
       "      <td>43</td>\n",
       "      <td>4.454347</td>\n",
       "      <td>0.577089</td>\n",
       "      <td>0.158505</td>\n",
       "      <td>0.4890</td>\n",
       "    </tr>\n",
       "    <tr>\n",
       "      <th>11</th>\n",
       "      <td>151000</td>\n",
       "      <td>montgomery</td>\n",
       "      <td>al</td>\n",
       "      <td>2010</td>\n",
       "      <td>204788</td>\n",
       "      <td>0</td>\n",
       "      <td>11.491211</td>\n",
       "      <td>14.0</td>\n",
       "      <td>0</td>\n",
       "      <td>2603</td>\n",
       "      <td>0.022900</td>\n",
       "      <td>41</td>\n",
       "      <td>4.454347</td>\n",
       "      <td>0.600353</td>\n",
       "      <td>0.163636</td>\n",
       "      <td>0.4750</td>\n",
       "    </tr>\n",
       "    <tr>\n",
       "      <th>12</th>\n",
       "      <td>151000</td>\n",
       "      <td>montgomery</td>\n",
       "      <td>al</td>\n",
       "      <td>2011</td>\n",
       "      <td>205548</td>\n",
       "      <td>0</td>\n",
       "      <td>12.092969</td>\n",
       "      <td>14.0</td>\n",
       "      <td>0</td>\n",
       "      <td>2603</td>\n",
       "      <td>0.020899</td>\n",
       "      <td>36</td>\n",
       "      <td>4.605170</td>\n",
       "      <td>0.606973</td>\n",
       "      <td>0.169775</td>\n",
       "      <td>0.4773</td>\n",
       "    </tr>\n",
       "    <tr>\n",
       "      <th>13</th>\n",
       "      <td>151000</td>\n",
       "      <td>montgomery</td>\n",
       "      <td>al</td>\n",
       "      <td>2012</td>\n",
       "      <td>205516</td>\n",
       "      <td>0</td>\n",
       "      <td>12.281619</td>\n",
       "      <td>15.0</td>\n",
       "      <td>0</td>\n",
       "      <td>2603</td>\n",
       "      <td>0.024591</td>\n",
       "      <td>36</td>\n",
       "      <td>4.584967</td>\n",
       "      <td>0.614546</td>\n",
       "      <td>0.175385</td>\n",
       "      <td>0.4746</td>\n",
       "    </tr>\n",
       "    <tr>\n",
       "      <th>14</th>\n",
       "      <td>151000</td>\n",
       "      <td>montgomery</td>\n",
       "      <td>al</td>\n",
       "      <td>2013</td>\n",
       "      <td>204760</td>\n",
       "      <td>0</td>\n",
       "      <td>12.268031</td>\n",
       "      <td>14.5</td>\n",
       "      <td>0</td>\n",
       "      <td>2603</td>\n",
       "      <td>0.021156</td>\n",
       "      <td>36</td>\n",
       "      <td>4.595120</td>\n",
       "      <td>0.624057</td>\n",
       "      <td>0.186060</td>\n",
       "      <td>0.4772</td>\n",
       "    </tr>\n",
       "    <tr>\n",
       "      <th>15</th>\n",
       "      <td>203000</td>\n",
       "      <td>anchorage</td>\n",
       "      <td>ak</td>\n",
       "      <td>2009</td>\n",
       "      <td>280389</td>\n",
       "      <td>0</td>\n",
       "      <td>10.235049</td>\n",
       "      <td>15.0</td>\n",
       "      <td>1</td>\n",
       "      <td>1065</td>\n",
       "      <td>-0.072448</td>\n",
       "      <td>32</td>\n",
       "      <td>NaN</td>\n",
       "      <td>0.302622</td>\n",
       "      <td>0.058163</td>\n",
       "      <td>0.4160</td>\n",
       "    </tr>\n",
       "    <tr>\n",
       "      <th>16</th>\n",
       "      <td>203000</td>\n",
       "      <td>anchorage</td>\n",
       "      <td>ak</td>\n",
       "      <td>2010</td>\n",
       "      <td>284267</td>\n",
       "      <td>0</td>\n",
       "      <td>-inf</td>\n",
       "      <td>15.5</td>\n",
       "      <td>1</td>\n",
       "      <td>1116</td>\n",
       "      <td>0.066004</td>\n",
       "      <td>36</td>\n",
       "      <td>NaN</td>\n",
       "      <td>0.321490</td>\n",
       "      <td>0.058111</td>\n",
       "      <td>0.4160</td>\n",
       "    </tr>\n",
       "    <tr>\n",
       "      <th>17</th>\n",
       "      <td>203000</td>\n",
       "      <td>anchorage</td>\n",
       "      <td>ak</td>\n",
       "      <td>2011</td>\n",
       "      <td>287390</td>\n",
       "      <td>0</td>\n",
       "      <td>11.177745</td>\n",
       "      <td>14.5</td>\n",
       "      <td>1</td>\n",
       "      <td>1116</td>\n",
       "      <td>0.070643</td>\n",
       "      <td>34</td>\n",
       "      <td>NaN</td>\n",
       "      <td>0.327033</td>\n",
       "      <td>0.054289</td>\n",
       "      <td>0.4132</td>\n",
       "    </tr>\n",
       "    <tr>\n",
       "      <th>18</th>\n",
       "      <td>203000</td>\n",
       "      <td>anchorage</td>\n",
       "      <td>ak</td>\n",
       "      <td>2012</td>\n",
       "      <td>291470</td>\n",
       "      <td>0</td>\n",
       "      <td>11.471541</td>\n",
       "      <td>15.0</td>\n",
       "      <td>1</td>\n",
       "      <td>1116</td>\n",
       "      <td>0.038555</td>\n",
       "      <td>32</td>\n",
       "      <td>NaN</td>\n",
       "      <td>0.332041</td>\n",
       "      <td>0.055081</td>\n",
       "      <td>0.4145</td>\n",
       "    </tr>\n",
       "    <tr>\n",
       "      <th>19</th>\n",
       "      <td>203000</td>\n",
       "      <td>anchorage</td>\n",
       "      <td>ak</td>\n",
       "      <td>2013</td>\n",
       "      <td>295237</td>\n",
       "      <td>0</td>\n",
       "      <td>11.990277</td>\n",
       "      <td>16.0</td>\n",
       "      <td>1</td>\n",
       "      <td>1116</td>\n",
       "      <td>-0.005326</td>\n",
       "      <td>31</td>\n",
       "      <td>NaN</td>\n",
       "      <td>0.337749</td>\n",
       "      <td>0.054277</td>\n",
       "      <td>0.4132</td>\n",
       "    </tr>\n",
       "    <tr>\n",
       "      <th>20</th>\n",
       "      <td>427820</td>\n",
       "      <td>glendale</td>\n",
       "      <td>az</td>\n",
       "      <td>2010</td>\n",
       "      <td>229687</td>\n",
       "      <td>0</td>\n",
       "      <td>8.722337</td>\n",
       "      <td>10.0</td>\n",
       "      <td>0</td>\n",
       "      <td>1413</td>\n",
       "      <td>0.018056</td>\n",
       "      <td>10</td>\n",
       "      <td>4.543295</td>\n",
       "      <td>0.240906</td>\n",
       "      <td>0.130971</td>\n",
       "      <td>0.4330</td>\n",
       "    </tr>\n",
       "    <tr>\n",
       "      <th>21</th>\n",
       "      <td>427820</td>\n",
       "      <td>glendale</td>\n",
       "      <td>az</td>\n",
       "      <td>2011</td>\n",
       "      <td>229611</td>\n",
       "      <td>0</td>\n",
       "      <td>10.556073</td>\n",
       "      <td>12.0</td>\n",
       "      <td>0</td>\n",
       "      <td>1413</td>\n",
       "      <td>0.049081</td>\n",
       "      <td>11</td>\n",
       "      <td>4.595120</td>\n",
       "      <td>0.241095</td>\n",
       "      <td>0.135128</td>\n",
       "      <td>0.4286</td>\n",
       "    </tr>\n",
       "    <tr>\n",
       "      <th>22</th>\n",
       "      <td>427820</td>\n",
       "      <td>glendale</td>\n",
       "      <td>az</td>\n",
       "      <td>2012</td>\n",
       "      <td>229331</td>\n",
       "      <td>0</td>\n",
       "      <td>11.935322</td>\n",
       "      <td>13.5</td>\n",
       "      <td>0</td>\n",
       "      <td>1413</td>\n",
       "      <td>0.058723</td>\n",
       "      <td>8</td>\n",
       "      <td>4.595120</td>\n",
       "      <td>0.237748</td>\n",
       "      <td>0.139857</td>\n",
       "      <td>0.4324</td>\n",
       "    </tr>\n",
       "    <tr>\n",
       "      <th>23</th>\n",
       "      <td>446000</td>\n",
       "      <td>mesa</td>\n",
       "      <td>az</td>\n",
       "      <td>2009</td>\n",
       "      <td>459742</td>\n",
       "      <td>0</td>\n",
       "      <td>-inf</td>\n",
       "      <td>11.0</td>\n",
       "      <td>0</td>\n",
       "      <td>1732</td>\n",
       "      <td>-0.068492</td>\n",
       "      <td>24</td>\n",
       "      <td>4.615121</td>\n",
       "      <td>0.162321</td>\n",
       "      <td>0.083274</td>\n",
       "      <td>0.4160</td>\n",
       "    </tr>\n",
       "    <tr>\n",
       "      <th>24</th>\n",
       "      <td>446000</td>\n",
       "      <td>mesa</td>\n",
       "      <td>az</td>\n",
       "      <td>2010</td>\n",
       "      <td>439639</td>\n",
       "      <td>0</td>\n",
       "      <td>-inf</td>\n",
       "      <td>13.0</td>\n",
       "      <td>0</td>\n",
       "      <td>1732</td>\n",
       "      <td>0.018056</td>\n",
       "      <td>66</td>\n",
       "      <td>4.521789</td>\n",
       "      <td>0.160122</td>\n",
       "      <td>0.085671</td>\n",
       "      <td>0.4180</td>\n",
       "    </tr>\n",
       "    <tr>\n",
       "      <th>25</th>\n",
       "      <td>446000</td>\n",
       "      <td>mesa</td>\n",
       "      <td>az</td>\n",
       "      <td>2011</td>\n",
       "      <td>441711</td>\n",
       "      <td>0</td>\n",
       "      <td>-inf</td>\n",
       "      <td>13.0</td>\n",
       "      <td>0</td>\n",
       "      <td>1732</td>\n",
       "      <td>0.049081</td>\n",
       "      <td>20</td>\n",
       "      <td>4.595120</td>\n",
       "      <td>0.164139</td>\n",
       "      <td>0.098129</td>\n",
       "      <td>0.4226</td>\n",
       "    </tr>\n",
       "    <tr>\n",
       "      <th>26</th>\n",
       "      <td>446000</td>\n",
       "      <td>mesa</td>\n",
       "      <td>az</td>\n",
       "      <td>2012</td>\n",
       "      <td>443875</td>\n",
       "      <td>0</td>\n",
       "      <td>12.086147</td>\n",
       "      <td>14.0</td>\n",
       "      <td>0</td>\n",
       "      <td>1732</td>\n",
       "      <td>0.058723</td>\n",
       "      <td>14</td>\n",
       "      <td>4.574711</td>\n",
       "      <td>0.167475</td>\n",
       "      <td>0.108867</td>\n",
       "      <td>0.4252</td>\n",
       "    </tr>\n",
       "    <tr>\n",
       "      <th>27</th>\n",
       "      <td>446000</td>\n",
       "      <td>mesa</td>\n",
       "      <td>az</td>\n",
       "      <td>2013</td>\n",
       "      <td>447002</td>\n",
       "      <td>0</td>\n",
       "      <td>12.865485</td>\n",
       "      <td>15.0</td>\n",
       "      <td>0</td>\n",
       "      <td>1732</td>\n",
       "      <td>0.029440</td>\n",
       "      <td>15</td>\n",
       "      <td>4.605170</td>\n",
       "      <td>0.163914</td>\n",
       "      <td>0.116703</td>\n",
       "      <td>0.4273</td>\n",
       "    </tr>\n",
       "    <tr>\n",
       "      <th>28</th>\n",
       "      <td>455000</td>\n",
       "      <td>phoenix</td>\n",
       "      <td>az</td>\n",
       "      <td>2009</td>\n",
       "      <td>1536632</td>\n",
       "      <td>2</td>\n",
       "      <td>11.472128</td>\n",
       "      <td>16.0</td>\n",
       "      <td>0</td>\n",
       "      <td>6451</td>\n",
       "      <td>-0.068492</td>\n",
       "      <td>188</td>\n",
       "      <td>4.532599</td>\n",
       "      <td>0.232686</td>\n",
       "      <td>0.137272</td>\n",
       "      <td>0.4590</td>\n",
       "    </tr>\n",
       "    <tr>\n",
       "      <th>29</th>\n",
       "      <td>455000</td>\n",
       "      <td>phoenix</td>\n",
       "      <td>az</td>\n",
       "      <td>2010</td>\n",
       "      <td>1450206</td>\n",
       "      <td>2</td>\n",
       "      <td>11.580685</td>\n",
       "      <td>17.0</td>\n",
       "      <td>1</td>\n",
       "      <td>6584</td>\n",
       "      <td>0.018056</td>\n",
       "      <td>176</td>\n",
       "      <td>4.465908</td>\n",
       "      <td>0.225302</td>\n",
       "      <td>0.146661</td>\n",
       "      <td>0.4650</td>\n",
       "    </tr>\n",
       "    <tr>\n",
       "      <th>...</th>\n",
       "      <td>...</td>\n",
       "      <td>...</td>\n",
       "      <td>...</td>\n",
       "      <td>...</td>\n",
       "      <td>...</td>\n",
       "      <td>...</td>\n",
       "      <td>...</td>\n",
       "      <td>...</td>\n",
       "      <td>...</td>\n",
       "      <td>...</td>\n",
       "      <td>...</td>\n",
       "      <td>...</td>\n",
       "      <td>...</td>\n",
       "      <td>...</td>\n",
       "      <td>...</td>\n",
       "      <td>...</td>\n",
       "    </tr>\n",
       "    <tr>\n",
       "      <th>513</th>\n",
       "      <td>5363000</td>\n",
       "      <td>seattle</td>\n",
       "      <td>wa</td>\n",
       "      <td>2009</td>\n",
       "      <td>594005</td>\n",
       "      <td>5</td>\n",
       "      <td>11.288793</td>\n",
       "      <td>21.5</td>\n",
       "      <td>1</td>\n",
       "      <td>13011</td>\n",
       "      <td>-0.007442</td>\n",
       "      <td>226</td>\n",
       "      <td>4.605170</td>\n",
       "      <td>0.283671</td>\n",
       "      <td>0.064619</td>\n",
       "      <td>0.4870</td>\n",
       "    </tr>\n",
       "    <tr>\n",
       "      <th>514</th>\n",
       "      <td>5363000</td>\n",
       "      <td>seattle</td>\n",
       "      <td>wa</td>\n",
       "      <td>2010</td>\n",
       "      <td>595240</td>\n",
       "      <td>5</td>\n",
       "      <td>11.962618</td>\n",
       "      <td>17.0</td>\n",
       "      <td>1</td>\n",
       "      <td>13011</td>\n",
       "      <td>0.032607</td>\n",
       "      <td>181</td>\n",
       "      <td>4.615121</td>\n",
       "      <td>0.294674</td>\n",
       "      <td>0.067856</td>\n",
       "      <td>0.4850</td>\n",
       "    </tr>\n",
       "    <tr>\n",
       "      <th>515</th>\n",
       "      <td>5363000</td>\n",
       "      <td>seattle</td>\n",
       "      <td>wa</td>\n",
       "      <td>2011</td>\n",
       "      <td>603174</td>\n",
       "      <td>4</td>\n",
       "      <td>12.400730</td>\n",
       "      <td>18.0</td>\n",
       "      <td>1</td>\n",
       "      <td>13011</td>\n",
       "      <td>0.033098</td>\n",
       "      <td>151</td>\n",
       "      <td>4.615121</td>\n",
       "      <td>0.294209</td>\n",
       "      <td>0.068039</td>\n",
       "      <td>0.4872</td>\n",
       "    </tr>\n",
       "    <tr>\n",
       "      <th>516</th>\n",
       "      <td>5363000</td>\n",
       "      <td>seattle</td>\n",
       "      <td>wa</td>\n",
       "      <td>2012</td>\n",
       "      <td>612916</td>\n",
       "      <td>2</td>\n",
       "      <td>12.553589</td>\n",
       "      <td>19.0</td>\n",
       "      <td>1</td>\n",
       "      <td>13011</td>\n",
       "      <td>0.068428</td>\n",
       "      <td>148</td>\n",
       "      <td>4.553877</td>\n",
       "      <td>0.294008</td>\n",
       "      <td>0.065350</td>\n",
       "      <td>0.4869</td>\n",
       "    </tr>\n",
       "    <tr>\n",
       "      <th>517</th>\n",
       "      <td>5363000</td>\n",
       "      <td>seattle</td>\n",
       "      <td>wa</td>\n",
       "      <td>2013</td>\n",
       "      <td>624681</td>\n",
       "      <td>2</td>\n",
       "      <td>12.840541</td>\n",
       "      <td>20.0</td>\n",
       "      <td>1</td>\n",
       "      <td>13011</td>\n",
       "      <td>0.041424</td>\n",
       "      <td>146</td>\n",
       "      <td>4.510860</td>\n",
       "      <td>0.294254</td>\n",
       "      <td>0.071749</td>\n",
       "      <td>0.4866</td>\n",
       "    </tr>\n",
       "    <tr>\n",
       "      <th>518</th>\n",
       "      <td>5367000</td>\n",
       "      <td>spokane</td>\n",
       "      <td>wa</td>\n",
       "      <td>2009</td>\n",
       "      <td>200700</td>\n",
       "      <td>1</td>\n",
       "      <td>12.450148</td>\n",
       "      <td>16.0</td>\n",
       "      <td>1</td>\n",
       "      <td>1562</td>\n",
       "      <td>-0.004406</td>\n",
       "      <td>61</td>\n",
       "      <td>4.595120</td>\n",
       "      <td>0.114160</td>\n",
       "      <td>0.123531</td>\n",
       "      <td>0.4580</td>\n",
       "    </tr>\n",
       "    <tr>\n",
       "      <th>519</th>\n",
       "      <td>5367000</td>\n",
       "      <td>spokane</td>\n",
       "      <td>wa</td>\n",
       "      <td>2010</td>\n",
       "      <td>206541</td>\n",
       "      <td>1</td>\n",
       "      <td>12.646709</td>\n",
       "      <td>21.0</td>\n",
       "      <td>1</td>\n",
       "      <td>1562</td>\n",
       "      <td>0.014423</td>\n",
       "      <td>59</td>\n",
       "      <td>4.574711</td>\n",
       "      <td>0.123559</td>\n",
       "      <td>0.125574</td>\n",
       "      <td>0.4580</td>\n",
       "    </tr>\n",
       "    <tr>\n",
       "      <th>520</th>\n",
       "      <td>5367000</td>\n",
       "      <td>spokane</td>\n",
       "      <td>wa</td>\n",
       "      <td>2011</td>\n",
       "      <td>208040</td>\n",
       "      <td>1</td>\n",
       "      <td>12.738860</td>\n",
       "      <td>22.0</td>\n",
       "      <td>1</td>\n",
       "      <td>1562</td>\n",
       "      <td>0.023918</td>\n",
       "      <td>59</td>\n",
       "      <td>4.605170</td>\n",
       "      <td>0.127692</td>\n",
       "      <td>0.126916</td>\n",
       "      <td>0.4573</td>\n",
       "    </tr>\n",
       "    <tr>\n",
       "      <th>521</th>\n",
       "      <td>5367000</td>\n",
       "      <td>spokane</td>\n",
       "      <td>wa</td>\n",
       "      <td>2012</td>\n",
       "      <td>208701</td>\n",
       "      <td>1</td>\n",
       "      <td>12.482700</td>\n",
       "      <td>18.0</td>\n",
       "      <td>1</td>\n",
       "      <td>1562</td>\n",
       "      <td>0.034287</td>\n",
       "      <td>61</td>\n",
       "      <td>4.584967</td>\n",
       "      <td>0.129012</td>\n",
       "      <td>0.132788</td>\n",
       "      <td>0.4537</td>\n",
       "    </tr>\n",
       "    <tr>\n",
       "      <th>522</th>\n",
       "      <td>5367000</td>\n",
       "      <td>spokane</td>\n",
       "      <td>wa</td>\n",
       "      <td>2013</td>\n",
       "      <td>209478</td>\n",
       "      <td>1</td>\n",
       "      <td>12.759135</td>\n",
       "      <td>19.5</td>\n",
       "      <td>1</td>\n",
       "      <td>1562</td>\n",
       "      <td>0.034896</td>\n",
       "      <td>60</td>\n",
       "      <td>4.595120</td>\n",
       "      <td>0.132735</td>\n",
       "      <td>0.133819</td>\n",
       "      <td>0.4556</td>\n",
       "    </tr>\n",
       "    <tr>\n",
       "      <th>523</th>\n",
       "      <td>5370000</td>\n",
       "      <td>tacoma</td>\n",
       "      <td>wa</td>\n",
       "      <td>2009</td>\n",
       "      <td>196118</td>\n",
       "      <td>2</td>\n",
       "      <td>12.056767</td>\n",
       "      <td>14.5</td>\n",
       "      <td>0</td>\n",
       "      <td>2325</td>\n",
       "      <td>-0.007442</td>\n",
       "      <td>38</td>\n",
       "      <td>4.574711</td>\n",
       "      <td>0.320409</td>\n",
       "      <td>0.127612</td>\n",
       "      <td>0.4510</td>\n",
       "    </tr>\n",
       "    <tr>\n",
       "      <th>524</th>\n",
       "      <td>5370000</td>\n",
       "      <td>tacoma</td>\n",
       "      <td>wa</td>\n",
       "      <td>2010</td>\n",
       "      <td>198819</td>\n",
       "      <td>2</td>\n",
       "      <td>12.112877</td>\n",
       "      <td>15.0</td>\n",
       "      <td>0</td>\n",
       "      <td>2325</td>\n",
       "      <td>0.032607</td>\n",
       "      <td>41</td>\n",
       "      <td>4.584967</td>\n",
       "      <td>0.316806</td>\n",
       "      <td>0.126453</td>\n",
       "      <td>0.4420</td>\n",
       "    </tr>\n",
       "    <tr>\n",
       "      <th>525</th>\n",
       "      <td>5370000</td>\n",
       "      <td>tacoma</td>\n",
       "      <td>wa</td>\n",
       "      <td>2011</td>\n",
       "      <td>199449</td>\n",
       "      <td>1</td>\n",
       "      <td>12.151807</td>\n",
       "      <td>17.0</td>\n",
       "      <td>0</td>\n",
       "      <td>2325</td>\n",
       "      <td>0.033098</td>\n",
       "      <td>36</td>\n",
       "      <td>4.595120</td>\n",
       "      <td>0.323742</td>\n",
       "      <td>0.128508</td>\n",
       "      <td>0.4422</td>\n",
       "    </tr>\n",
       "    <tr>\n",
       "      <th>526</th>\n",
       "      <td>5370000</td>\n",
       "      <td>tacoma</td>\n",
       "      <td>wa</td>\n",
       "      <td>2012</td>\n",
       "      <td>200013</td>\n",
       "      <td>1</td>\n",
       "      <td>12.095984</td>\n",
       "      <td>18.0</td>\n",
       "      <td>0</td>\n",
       "      <td>2325</td>\n",
       "      <td>0.068428</td>\n",
       "      <td>37</td>\n",
       "      <td>4.543295</td>\n",
       "      <td>0.333423</td>\n",
       "      <td>0.130415</td>\n",
       "      <td>0.4372</td>\n",
       "    </tr>\n",
       "    <tr>\n",
       "      <th>527</th>\n",
       "      <td>5370000</td>\n",
       "      <td>tacoma</td>\n",
       "      <td>wa</td>\n",
       "      <td>2013</td>\n",
       "      <td>200890</td>\n",
       "      <td>1</td>\n",
       "      <td>12.123895</td>\n",
       "      <td>19.0</td>\n",
       "      <td>0</td>\n",
       "      <td>2325</td>\n",
       "      <td>0.041424</td>\n",
       "      <td>36</td>\n",
       "      <td>4.553877</td>\n",
       "      <td>0.335845</td>\n",
       "      <td>0.132610</td>\n",
       "      <td>0.4404</td>\n",
       "    </tr>\n",
       "    <tr>\n",
       "      <th>528</th>\n",
       "      <td>5548000</td>\n",
       "      <td>madison</td>\n",
       "      <td>wi</td>\n",
       "      <td>2009</td>\n",
       "      <td>229051</td>\n",
       "      <td>1</td>\n",
       "      <td>12.242371</td>\n",
       "      <td>17.0</td>\n",
       "      <td>1</td>\n",
       "      <td>2048</td>\n",
       "      <td>0.031689</td>\n",
       "      <td>83</td>\n",
       "      <td>4.521789</td>\n",
       "      <td>0.176996</td>\n",
       "      <td>0.081184</td>\n",
       "      <td>0.4570</td>\n",
       "    </tr>\n",
       "    <tr>\n",
       "      <th>529</th>\n",
       "      <td>5548000</td>\n",
       "      <td>madison</td>\n",
       "      <td>wi</td>\n",
       "      <td>2010</td>\n",
       "      <td>229236</td>\n",
       "      <td>1</td>\n",
       "      <td>12.320807</td>\n",
       "      <td>16.0</td>\n",
       "      <td>1</td>\n",
       "      <td>2053</td>\n",
       "      <td>0.045224</td>\n",
       "      <td>83</td>\n",
       "      <td>4.488636</td>\n",
       "      <td>0.193238</td>\n",
       "      <td>0.080996</td>\n",
       "      <td>0.4530</td>\n",
       "    </tr>\n",
       "    <tr>\n",
       "      <th>530</th>\n",
       "      <td>5548000</td>\n",
       "      <td>madison</td>\n",
       "      <td>wi</td>\n",
       "      <td>2011</td>\n",
       "      <td>231783</td>\n",
       "      <td>1</td>\n",
       "      <td>12.638971</td>\n",
       "      <td>19.0</td>\n",
       "      <td>0</td>\n",
       "      <td>2053</td>\n",
       "      <td>0.044040</td>\n",
       "      <td>71</td>\n",
       "      <td>4.499810</td>\n",
       "      <td>0.191502</td>\n",
       "      <td>0.086236</td>\n",
       "      <td>0.4545</td>\n",
       "    </tr>\n",
       "    <tr>\n",
       "      <th>531</th>\n",
       "      <td>5548000</td>\n",
       "      <td>madison</td>\n",
       "      <td>wi</td>\n",
       "      <td>2012</td>\n",
       "      <td>234586</td>\n",
       "      <td>1</td>\n",
       "      <td>12.654233</td>\n",
       "      <td>20.0</td>\n",
       "      <td>0</td>\n",
       "      <td>2053</td>\n",
       "      <td>0.040039</td>\n",
       "      <td>69</td>\n",
       "      <td>4.499810</td>\n",
       "      <td>0.193328</td>\n",
       "      <td>0.089283</td>\n",
       "      <td>0.4609</td>\n",
       "    </tr>\n",
       "    <tr>\n",
       "      <th>532</th>\n",
       "      <td>5548000</td>\n",
       "      <td>madison</td>\n",
       "      <td>wi</td>\n",
       "      <td>2013</td>\n",
       "      <td>237395</td>\n",
       "      <td>1</td>\n",
       "      <td>12.634798</td>\n",
       "      <td>20.0</td>\n",
       "      <td>0</td>\n",
       "      <td>2053</td>\n",
       "      <td>0.052508</td>\n",
       "      <td>71</td>\n",
       "      <td>4.488636</td>\n",
       "      <td>0.197397</td>\n",
       "      <td>0.093128</td>\n",
       "      <td>0.4650</td>\n",
       "    </tr>\n",
       "    <tr>\n",
       "      <th>533</th>\n",
       "      <td>5553000</td>\n",
       "      <td>milwaukee</td>\n",
       "      <td>wi</td>\n",
       "      <td>2009</td>\n",
       "      <td>603338</td>\n",
       "      <td>1</td>\n",
       "      <td>11.793621</td>\n",
       "      <td>16.0</td>\n",
       "      <td>1</td>\n",
       "      <td>3843</td>\n",
       "      <td>0.001618</td>\n",
       "      <td>175</td>\n",
       "      <td>4.595120</td>\n",
       "      <td>0.511524</td>\n",
       "      <td>0.198886</td>\n",
       "      <td>0.4370</td>\n",
       "    </tr>\n",
       "    <tr>\n",
       "      <th>534</th>\n",
       "      <td>5553000</td>\n",
       "      <td>milwaukee</td>\n",
       "      <td>wi</td>\n",
       "      <td>2010</td>\n",
       "      <td>589697</td>\n",
       "      <td>1</td>\n",
       "      <td>11.510984</td>\n",
       "      <td>16.0</td>\n",
       "      <td>1</td>\n",
       "      <td>3882</td>\n",
       "      <td>0.021615</td>\n",
       "      <td>177</td>\n",
       "      <td>4.553877</td>\n",
       "      <td>0.534495</td>\n",
       "      <td>0.217092</td>\n",
       "      <td>0.4440</td>\n",
       "    </tr>\n",
       "    <tr>\n",
       "      <th>535</th>\n",
       "      <td>5553000</td>\n",
       "      <td>milwaukee</td>\n",
       "      <td>wi</td>\n",
       "      <td>2011</td>\n",
       "      <td>591957</td>\n",
       "      <td>1</td>\n",
       "      <td>11.972633</td>\n",
       "      <td>17.0</td>\n",
       "      <td>1</td>\n",
       "      <td>3882</td>\n",
       "      <td>0.031461</td>\n",
       "      <td>158</td>\n",
       "      <td>4.574711</td>\n",
       "      <td>0.525841</td>\n",
       "      <td>0.226300</td>\n",
       "      <td>0.4471</td>\n",
       "    </tr>\n",
       "    <tr>\n",
       "      <th>536</th>\n",
       "      <td>5553000</td>\n",
       "      <td>milwaukee</td>\n",
       "      <td>wi</td>\n",
       "      <td>2012</td>\n",
       "      <td>594328</td>\n",
       "      <td>1</td>\n",
       "      <td>11.929291</td>\n",
       "      <td>18.0</td>\n",
       "      <td>1</td>\n",
       "      <td>3882</td>\n",
       "      <td>0.024257</td>\n",
       "      <td>157</td>\n",
       "      <td>4.553877</td>\n",
       "      <td>0.520982</td>\n",
       "      <td>0.238435</td>\n",
       "      <td>0.4541</td>\n",
       "    </tr>\n",
       "    <tr>\n",
       "      <th>537</th>\n",
       "      <td>5553000</td>\n",
       "      <td>milwaukee</td>\n",
       "      <td>wi</td>\n",
       "      <td>2013</td>\n",
       "      <td>596459</td>\n",
       "      <td>1</td>\n",
       "      <td>11.947749</td>\n",
       "      <td>19.0</td>\n",
       "      <td>1</td>\n",
       "      <td>3882</td>\n",
       "      <td>0.023812</td>\n",
       "      <td>143</td>\n",
       "      <td>4.543295</td>\n",
       "      <td>0.525791</td>\n",
       "      <td>0.249228</td>\n",
       "      <td>0.4582</td>\n",
       "    </tr>\n",
       "    <tr>\n",
       "      <th>538</th>\n",
       "      <td>7276770</td>\n",
       "      <td>san juan</td>\n",
       "      <td>pr</td>\n",
       "      <td>2009</td>\n",
       "      <td>410854</td>\n",
       "      <td>0</td>\n",
       "      <td>-inf</td>\n",
       "      <td>6.0</td>\n",
       "      <td>0</td>\n",
       "      <td>3040</td>\n",
       "      <td>NaN</td>\n",
       "      <td>26</td>\n",
       "      <td>4.158883</td>\n",
       "      <td>0.326617</td>\n",
       "      <td>0.344548</td>\n",
       "      <td>0.5780</td>\n",
       "    </tr>\n",
       "    <tr>\n",
       "      <th>539</th>\n",
       "      <td>7276770</td>\n",
       "      <td>san juan</td>\n",
       "      <td>pr</td>\n",
       "      <td>2010</td>\n",
       "      <td>392157</td>\n",
       "      <td>0</td>\n",
       "      <td>-inf</td>\n",
       "      <td>7.0</td>\n",
       "      <td>0</td>\n",
       "      <td>3040</td>\n",
       "      <td>NaN</td>\n",
       "      <td>26</td>\n",
       "      <td>4.204693</td>\n",
       "      <td>0.344092</td>\n",
       "      <td>0.348485</td>\n",
       "      <td>0.5810</td>\n",
       "    </tr>\n",
       "    <tr>\n",
       "      <th>540</th>\n",
       "      <td>7276770</td>\n",
       "      <td>san juan</td>\n",
       "      <td>pr</td>\n",
       "      <td>2011</td>\n",
       "      <td>386070</td>\n",
       "      <td>0</td>\n",
       "      <td>-inf</td>\n",
       "      <td>9.5</td>\n",
       "      <td>0</td>\n",
       "      <td>3040</td>\n",
       "      <td>NaN</td>\n",
       "      <td>18</td>\n",
       "      <td>4.143135</td>\n",
       "      <td>0.355619</td>\n",
       "      <td>0.356274</td>\n",
       "      <td>0.5862</td>\n",
       "    </tr>\n",
       "    <tr>\n",
       "      <th>541</th>\n",
       "      <td>7276770</td>\n",
       "      <td>san juan</td>\n",
       "      <td>pr</td>\n",
       "      <td>2012</td>\n",
       "      <td>380167</td>\n",
       "      <td>0</td>\n",
       "      <td>-inf</td>\n",
       "      <td>10.5</td>\n",
       "      <td>0</td>\n",
       "      <td>3040</td>\n",
       "      <td>NaN</td>\n",
       "      <td>18</td>\n",
       "      <td>4.174387</td>\n",
       "      <td>0.362501</td>\n",
       "      <td>0.358783</td>\n",
       "      <td>0.5887</td>\n",
       "    </tr>\n",
       "    <tr>\n",
       "      <th>542</th>\n",
       "      <td>7276770</td>\n",
       "      <td>san juan</td>\n",
       "      <td>pr</td>\n",
       "      <td>2013</td>\n",
       "      <td>374129</td>\n",
       "      <td>0</td>\n",
       "      <td>12.660839</td>\n",
       "      <td>15.0</td>\n",
       "      <td>0</td>\n",
       "      <td>3040</td>\n",
       "      <td>NaN</td>\n",
       "      <td>13</td>\n",
       "      <td>4.204693</td>\n",
       "      <td>0.355276</td>\n",
       "      <td>0.363976</td>\n",
       "      <td>0.5930</td>\n",
       "    </tr>\n",
       "  </tbody>\n",
       "</table>\n",
       "<p>543 rows × 16 columns</p>\n",
       "</div>"
      ],
      "text/plain": [
       "    Place (State FIPS + Place FIPS)  city_lower state_lower  year Total Population            cdc                      log_inc                   org_age              NTEECC_L01 total_units              gdp_growth            EIN     logvouchuse     pct_minority poverty_rate Households: Gini Index\n",
       "                                                                   City Population Number of CDCs Median Log Income (all orgs) Median Org Age (all orgs) Number of Advocacy Orgs Units Built GDP Growth (metro area) Number of Orgs Log Voucher Use Percent Minority Poverty Rate             Gini Index\n",
       "0                            107000  birmingham          al  2009           231486              3                    10.835022                      15.0                       1        2971               -0.066228            125        4.521789         0.747453     0.211099                 0.4870\n",
       "1                            107000  birmingham          al  2010           216392              3                    11.279584                      16.0                       1        2971                0.032606            122        4.454347         0.770888     0.212195                 0.4890\n",
       "2                            107000  birmingham          al  2011           214348              3                    11.563400                      17.0                       1        2971                0.060244             99        4.465908         0.768311     0.224508                 0.4893\n",
       "3                            107000  birmingham          al  2012           213180              3                    11.844292                      18.0                       1        2971                0.063536             93        4.499810         0.772319     0.243358                 0.4919\n",
       "4                            107000  birmingham          al  2013           212295              2                    11.871592                      19.0                       1        2971                0.000234             83        4.499810         0.773217     0.248970                 0.4970\n",
       "5                            150000      mobile          al  2009           191936              1                    12.061117                      15.5                       0        2026                0.007594             70        4.465908         0.526530     0.183844                 0.5100\n",
       "6                            150000      mobile          al  2010           195619              1                    11.832578                      15.0                       0        2026                0.032351             71        4.330733         0.539707     0.179356                 0.5110\n",
       "7                            150000      mobile          al  2011           195457              1                    12.066029                      15.0                       0        2026                0.030506             71        4.406719         0.539003     0.181097                 0.5087\n",
       "8                            150000      mobile          al  2012           195239              1                    11.888285                      18.5                       0        2026                0.014974             76        4.343805         0.543877     0.185307                 0.5052\n",
       "9                            150000      mobile          al  2013           195116              1                    12.150392                      21.5                       0        2026                0.042558             74        4.369448         0.546014     0.196583                 0.5115\n",
       "10                           151000  montgomery          al  2009           202487              0                     9.542661                      15.0                       0        2603               -0.007684             43        4.454347         0.577089     0.158505                 0.4890\n",
       "11                           151000  montgomery          al  2010           204788              0                    11.491211                      14.0                       0        2603                0.022900             41        4.454347         0.600353     0.163636                 0.4750\n",
       "12                           151000  montgomery          al  2011           205548              0                    12.092969                      14.0                       0        2603                0.020899             36        4.605170         0.606973     0.169775                 0.4773\n",
       "13                           151000  montgomery          al  2012           205516              0                    12.281619                      15.0                       0        2603                0.024591             36        4.584967         0.614546     0.175385                 0.4746\n",
       "14                           151000  montgomery          al  2013           204760              0                    12.268031                      14.5                       0        2603                0.021156             36        4.595120         0.624057     0.186060                 0.4772\n",
       "15                           203000   anchorage          ak  2009           280389              0                    10.235049                      15.0                       1        1065               -0.072448             32             NaN         0.302622     0.058163                 0.4160\n",
       "16                           203000   anchorage          ak  2010           284267              0                         -inf                      15.5                       1        1116                0.066004             36             NaN         0.321490     0.058111                 0.4160\n",
       "17                           203000   anchorage          ak  2011           287390              0                    11.177745                      14.5                       1        1116                0.070643             34             NaN         0.327033     0.054289                 0.4132\n",
       "18                           203000   anchorage          ak  2012           291470              0                    11.471541                      15.0                       1        1116                0.038555             32             NaN         0.332041     0.055081                 0.4145\n",
       "19                           203000   anchorage          ak  2013           295237              0                    11.990277                      16.0                       1        1116               -0.005326             31             NaN         0.337749     0.054277                 0.4132\n",
       "20                           427820    glendale          az  2010           229687              0                     8.722337                      10.0                       0        1413                0.018056             10        4.543295         0.240906     0.130971                 0.4330\n",
       "21                           427820    glendale          az  2011           229611              0                    10.556073                      12.0                       0        1413                0.049081             11        4.595120         0.241095     0.135128                 0.4286\n",
       "22                           427820    glendale          az  2012           229331              0                    11.935322                      13.5                       0        1413                0.058723              8        4.595120         0.237748     0.139857                 0.4324\n",
       "23                           446000        mesa          az  2009           459742              0                         -inf                      11.0                       0        1732               -0.068492             24        4.615121         0.162321     0.083274                 0.4160\n",
       "24                           446000        mesa          az  2010           439639              0                         -inf                      13.0                       0        1732                0.018056             66        4.521789         0.160122     0.085671                 0.4180\n",
       "25                           446000        mesa          az  2011           441711              0                         -inf                      13.0                       0        1732                0.049081             20        4.595120         0.164139     0.098129                 0.4226\n",
       "26                           446000        mesa          az  2012           443875              0                    12.086147                      14.0                       0        1732                0.058723             14        4.574711         0.167475     0.108867                 0.4252\n",
       "27                           446000        mesa          az  2013           447002              0                    12.865485                      15.0                       0        1732                0.029440             15        4.605170         0.163914     0.116703                 0.4273\n",
       "28                           455000     phoenix          az  2009          1536632              2                    11.472128                      16.0                       0        6451               -0.068492            188        4.532599         0.232686     0.137272                 0.4590\n",
       "29                           455000     phoenix          az  2010          1450206              2                    11.580685                      17.0                       1        6584                0.018056            176        4.465908         0.225302     0.146661                 0.4650\n",
       "..                              ...         ...         ...   ...              ...            ...                          ...                       ...                     ...         ...                     ...            ...             ...              ...          ...                    ...\n",
       "513                         5363000     seattle          wa  2009           594005              5                    11.288793                      21.5                       1       13011               -0.007442            226        4.605170         0.283671     0.064619                 0.4870\n",
       "514                         5363000     seattle          wa  2010           595240              5                    11.962618                      17.0                       1       13011                0.032607            181        4.615121         0.294674     0.067856                 0.4850\n",
       "515                         5363000     seattle          wa  2011           603174              4                    12.400730                      18.0                       1       13011                0.033098            151        4.615121         0.294209     0.068039                 0.4872\n",
       "516                         5363000     seattle          wa  2012           612916              2                    12.553589                      19.0                       1       13011                0.068428            148        4.553877         0.294008     0.065350                 0.4869\n",
       "517                         5363000     seattle          wa  2013           624681              2                    12.840541                      20.0                       1       13011                0.041424            146        4.510860         0.294254     0.071749                 0.4866\n",
       "518                         5367000     spokane          wa  2009           200700              1                    12.450148                      16.0                       1        1562               -0.004406             61        4.595120         0.114160     0.123531                 0.4580\n",
       "519                         5367000     spokane          wa  2010           206541              1                    12.646709                      21.0                       1        1562                0.014423             59        4.574711         0.123559     0.125574                 0.4580\n",
       "520                         5367000     spokane          wa  2011           208040              1                    12.738860                      22.0                       1        1562                0.023918             59        4.605170         0.127692     0.126916                 0.4573\n",
       "521                         5367000     spokane          wa  2012           208701              1                    12.482700                      18.0                       1        1562                0.034287             61        4.584967         0.129012     0.132788                 0.4537\n",
       "522                         5367000     spokane          wa  2013           209478              1                    12.759135                      19.5                       1        1562                0.034896             60        4.595120         0.132735     0.133819                 0.4556\n",
       "523                         5370000      tacoma          wa  2009           196118              2                    12.056767                      14.5                       0        2325               -0.007442             38        4.574711         0.320409     0.127612                 0.4510\n",
       "524                         5370000      tacoma          wa  2010           198819              2                    12.112877                      15.0                       0        2325                0.032607             41        4.584967         0.316806     0.126453                 0.4420\n",
       "525                         5370000      tacoma          wa  2011           199449              1                    12.151807                      17.0                       0        2325                0.033098             36        4.595120         0.323742     0.128508                 0.4422\n",
       "526                         5370000      tacoma          wa  2012           200013              1                    12.095984                      18.0                       0        2325                0.068428             37        4.543295         0.333423     0.130415                 0.4372\n",
       "527                         5370000      tacoma          wa  2013           200890              1                    12.123895                      19.0                       0        2325                0.041424             36        4.553877         0.335845     0.132610                 0.4404\n",
       "528                         5548000     madison          wi  2009           229051              1                    12.242371                      17.0                       1        2048                0.031689             83        4.521789         0.176996     0.081184                 0.4570\n",
       "529                         5548000     madison          wi  2010           229236              1                    12.320807                      16.0                       1        2053                0.045224             83        4.488636         0.193238     0.080996                 0.4530\n",
       "530                         5548000     madison          wi  2011           231783              1                    12.638971                      19.0                       0        2053                0.044040             71        4.499810         0.191502     0.086236                 0.4545\n",
       "531                         5548000     madison          wi  2012           234586              1                    12.654233                      20.0                       0        2053                0.040039             69        4.499810         0.193328     0.089283                 0.4609\n",
       "532                         5548000     madison          wi  2013           237395              1                    12.634798                      20.0                       0        2053                0.052508             71        4.488636         0.197397     0.093128                 0.4650\n",
       "533                         5553000   milwaukee          wi  2009           603338              1                    11.793621                      16.0                       1        3843                0.001618            175        4.595120         0.511524     0.198886                 0.4370\n",
       "534                         5553000   milwaukee          wi  2010           589697              1                    11.510984                      16.0                       1        3882                0.021615            177        4.553877         0.534495     0.217092                 0.4440\n",
       "535                         5553000   milwaukee          wi  2011           591957              1                    11.972633                      17.0                       1        3882                0.031461            158        4.574711         0.525841     0.226300                 0.4471\n",
       "536                         5553000   milwaukee          wi  2012           594328              1                    11.929291                      18.0                       1        3882                0.024257            157        4.553877         0.520982     0.238435                 0.4541\n",
       "537                         5553000   milwaukee          wi  2013           596459              1                    11.947749                      19.0                       1        3882                0.023812            143        4.543295         0.525791     0.249228                 0.4582\n",
       "538                         7276770    san juan          pr  2009           410854              0                         -inf                       6.0                       0        3040                     NaN             26        4.158883         0.326617     0.344548                 0.5780\n",
       "539                         7276770    san juan          pr  2010           392157              0                         -inf                       7.0                       0        3040                     NaN             26        4.204693         0.344092     0.348485                 0.5810\n",
       "540                         7276770    san juan          pr  2011           386070              0                         -inf                       9.5                       0        3040                     NaN             18        4.143135         0.355619     0.356274                 0.5862\n",
       "541                         7276770    san juan          pr  2012           380167              0                         -inf                      10.5                       0        3040                     NaN             18        4.174387         0.362501     0.358783                 0.5887\n",
       "542                         7276770    san juan          pr  2013           374129              0                    12.660839                      15.0                       0        3040                     NaN             13        4.204693         0.355276     0.363976                 0.5930\n",
       "\n",
       "[543 rows x 16 columns]"
      ]
     },
     "execution_count": 123,
     "metadata": {},
     "output_type": "execute_result"
    }
   ],
   "source": [
    "city_df"
   ]
  },
  {
   "cell_type": "code",
   "execution_count": null,
   "metadata": {
    "collapsed": true
   },
   "outputs": [],
   "source": []
  }
 ],
 "metadata": {
  "kernelspec": {
   "display_name": "Python 2",
   "language": "python",
   "name": "python2"
  },
  "language_info": {
   "codemirror_mode": {
    "name": "ipython",
    "version": 2
   },
   "file_extension": ".py",
   "mimetype": "text/x-python",
   "name": "python",
   "nbconvert_exporter": "python",
   "pygments_lexer": "ipython2",
   "version": "2.7.7"
  }
 },
 "nbformat": 4,
 "nbformat_minor": 0
}
